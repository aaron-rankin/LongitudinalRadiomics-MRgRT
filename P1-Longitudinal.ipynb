{
 "cells": [
  {
   "attachments": {},
   "cell_type": "markdown",
   "metadata": {},
   "source": [
    "# MR-Longitudinal Radiomics\n",
    "### Radiomics pipeline created for longitudinal images collected at subsequent fractions of treatment.\n",
    "##### Full model: Feature Extraction, Feature Reduction via volume correlation & test-retest stability, Feature Selection via Euclidean distance between feature pair trajectories and hierachical clustering.\n",
    "##### Compares the results of the longitudinal model with a standard delta-radiomics approach to illustrate the importance of accounting for the full feature trajectory over treatment.\n",
    "\n",
    "###\n",
    "#### Below specify certain variables and options for customising the notebook"
   ]
  },
  {
   "cell_type": "code",
   "execution_count": 43,
   "metadata": {},
   "outputs": [],
   "source": [
    "import os\n",
    "import pandas as pd\n",
    "from tqdm import tqdm\n",
    "\n",
    "# Specify the output path\n",
    "# specify the tag to use - could be anything, helps to identify the output if running multiple models\n",
    "# default is \"Test\"\n",
    "tag = \"HM-FS-Final-RS\"\n",
    "# output_path = \"C:/Users/b01297ar/Documents/ProstateMRL-local/ProstateMRL-Radiomics/ReleaseCode/Output/\" + tag + \"/\"\n",
    "cwd = os.getcwd()\n",
    "output_path = cwd + \"/Output/\" \n",
    "if os.path.exists(output_path) == False:\n",
    "        os.mkdir(output_path)\n",
    "if os.path.exists(output_path + tag) == False:\n",
    "    os.mkdir(output_path + tag)\n",
    "    os.mkdir(output_path + tag + \"/Features/\")\n",
    "    os.mkdir(output_path + tag + \"/Extraction/\")\n",
    "    os.mkdir(output_path + tag + \"/Plots/\")\n",
    "output_path = cwd + \"/Output/\" + tag + \"/\"\n",
    "\n",
    "# specify if you want to compare to a delta model\n",
    "# default is False\n",
    "Delta_Model = True\n",
    "\n",
    "# Specify if you want to visualise the results in plots\n",
    "# default is False, can specify at given stages below if you want to visualise\n",
    "plot = True\n",
    "\n",
    "# Specify if you want to extract Features\n",
    "# default is False, option to do so is below\n",
    "# If features are already extracted, set to false and provide the path to the extracted features below\n",
    "extract = False\n"
   ]
  },
  {
   "attachments": {},
   "cell_type": "markdown",
   "metadata": {},
   "source": [
    "## Feature Extraction\n",
    "#### If you want to extract features, provide a csv containing the following:\n",
    "####               | PatID | Fraction | Image file | Mask Name | Mask file | \n",
    "#### Specify the root of the csv in the Input dir.\n",
    "#### Calculates features based on the parameter file specified. Default setting is currently set at PyRadiomics base extraction parameters - Fixed bin size (FBS) of 25, no resampling, no normalisation, 107 features (IBSI compliant) and no wavelet/laplacian filters applied. \n",
    "#### Features are then calculated and then saved in a new folder in the Output dir - with files in parquet format. Columns will be:\n",
    "#### PatID | Fraction | Mask | Feature | Feature Value |"
   ]
  },
  {
   "cell_type": "code",
   "execution_count": 44,
   "metadata": {},
   "outputs": [],
   "source": [
    "if extract == True:\n",
    "    from Functions import Extraction as FE\n",
    "    key_extraction = cwd + \"/Input/Default/PepKey_All.csv\"\n",
    "    key_extraction = pd.read_csv(key_extraction)\n",
    "\n",
    "    extraction_path = output_path + \"/Extraction/\"\n",
    "    if not os.path.exists(extraction_path):\n",
    "        os.makedirs(extraction_path)\n",
    "\n",
    "    params_extractor = cwd + \"/Input/Default/Default_ExtractionParams.yaml\"\n",
    "\n",
    "\n",
    "    # Loop over all patients\n",
    "    print(\"Extracting features for patients...\")\n",
    "    for pat in key_extraction[\"PatID\"].unique():\n",
    "        print(\"Processing patient: \" + str(pat) + \"...\")\n",
    "\n",
    "        # Get the patient's key\n",
    "        key_pat = key_extraction[key_extraction[\"PatID\"] == pat]\n",
    "        Features_pat = pd.DataFrame()\n",
    "        # loop over all rows\n",
    "        if os.path.exists(output_path + \"/Extraction/\" + str(pat) + \"_\" + tag + \".csv\"):\n",
    "            print(\" \")\n",
    "        else:\n",
    "            for i, row in key_pat.iterrows():\n",
    "\n",
    "                PatID = row[\"PatID\"]\n",
    "                Fraction = row[\"Fraction\"]\n",
    "                Mask = row[\"Contour\"]\n",
    "                ContourType = row[\"ContourType\"]\n",
    "                ImagePath = row[\"ImagePath\"]\n",
    "                MaskPath = row[\"MaskPath\"]\n",
    "                \n",
    "                # Extract features\n",
    "                Features = FE.ExtractFeatures(PatID, Fraction, Mask, ContourType, ImagePath, MaskPath, params_extractor)\n",
    "\n",
    "                Features_pat = Features_pat.append(Features)\n",
    "            \n",
    "                \n",
    "            Features_pat.to_csv(output_path + \"/Extraction/\" + str(pat) + \"_\" + tag + \".csv\", index=False)\n"
   ]
  },
  {
   "attachments": {},
   "cell_type": "markdown",
   "metadata": {},
   "source": [
    "#### Once all features have been extracted, combine in to one dataframe\n",
    "#### Or\n",
    "#### Specify the path of the feature values. \n",
    "##### Default is to read in a parquet file (smaller file sizes - so quicker), make sure to change to pd.read_csv if reading in csv and change path."
   ]
  },
  {
   "cell_type": "code",
   "execution_count": 45,
   "metadata": {},
   "outputs": [],
   "source": [
    "if extract == True:\n",
    "    df_all = pd.DataFrame()\n",
    "    files = os.listdir(output_path + \"/Extraction/\")\n",
    "    for file in files:\n",
    "        df_pat = pd.read_csv(output_path + \"/Extraction/\" + file)\n",
    "        df_all = df_all.append(df_pat)\n",
    "        \n",
    "\n",
    "        # Save the features to parquet\n",
    "    if os.path.exists(output_path + \"/Features/\") == False:\n",
    "        os.mkdir(output_path + \"/Features/\")   \n",
    "    df_all.to_csv(output_path + \"/Features/Features_All.csv\")\n",
    "\n",
    "else:\n",
    "    if os.path.exists(output_path + \"/Features/Features_All.csv\") == False:\n",
    "        df_all = pd.read_csv('Input/Default/Features_HM-FS.csv')\n",
    "        df_all.to_csv(output_path + \"/Features/Features_All.csv\")\n",
    "    else:\n",
    "        df_all = pd.read_csv(output_path + \"/Features/Features_All.csv\")"
   ]
  },
  {
   "cell_type": "code",
   "execution_count": 46,
   "metadata": {},
   "outputs": [
    {
     "data": {
      "text/html": [
       "<div>\n",
       "<style scoped>\n",
       "    .dataframe tbody tr th:only-of-type {\n",
       "        vertical-align: middle;\n",
       "    }\n",
       "\n",
       "    .dataframe tbody tr th {\n",
       "        vertical-align: top;\n",
       "    }\n",
       "\n",
       "    .dataframe thead th {\n",
       "        text-align: right;\n",
       "    }\n",
       "</style>\n",
       "<table border=\"1\" class=\"dataframe\">\n",
       "  <thead>\n",
       "    <tr style=\"text-align: right;\">\n",
       "      <th></th>\n",
       "      <th>PatID</th>\n",
       "      <th>Fraction</th>\n",
       "      <th>Contour</th>\n",
       "      <th>ContourType</th>\n",
       "      <th>Feature</th>\n",
       "      <th>FeatureValue</th>\n",
       "    </tr>\n",
       "  </thead>\n",
       "  <tbody>\n",
       "    <tr>\n",
       "      <th>0</th>\n",
       "      <td>1642</td>\n",
       "      <td>1</td>\n",
       "      <td>RP</td>\n",
       "      <td>Manual</td>\n",
       "      <td>shape_Elongation</td>\n",
       "      <td>0.839757</td>\n",
       "    </tr>\n",
       "    <tr>\n",
       "      <th>1</th>\n",
       "      <td>1642</td>\n",
       "      <td>1</td>\n",
       "      <td>RP</td>\n",
       "      <td>Manual</td>\n",
       "      <td>shape_Flatness</td>\n",
       "      <td>0.679305</td>\n",
       "    </tr>\n",
       "    <tr>\n",
       "      <th>2</th>\n",
       "      <td>1642</td>\n",
       "      <td>1</td>\n",
       "      <td>RP</td>\n",
       "      <td>Manual</td>\n",
       "      <td>shape_LeastAxisLength</td>\n",
       "      <td>23.488558</td>\n",
       "    </tr>\n",
       "    <tr>\n",
       "      <th>3</th>\n",
       "      <td>1642</td>\n",
       "      <td>1</td>\n",
       "      <td>RP</td>\n",
       "      <td>Manual</td>\n",
       "      <td>shape_MajorAxisLength</td>\n",
       "      <td>34.577340</td>\n",
       "    </tr>\n",
       "    <tr>\n",
       "      <th>4</th>\n",
       "      <td>1642</td>\n",
       "      <td>1</td>\n",
       "      <td>RP</td>\n",
       "      <td>Manual</td>\n",
       "      <td>shape_Maximum2DDiameterColumn</td>\n",
       "      <td>40.050273</td>\n",
       "    </tr>\n",
       "  </tbody>\n",
       "</table>\n",
       "</div>"
      ],
      "text/plain": [
       "   PatID  Fraction Contour ContourType                        Feature  \\\n",
       "0   1642         1      RP      Manual               shape_Elongation   \n",
       "1   1642         1      RP      Manual                 shape_Flatness   \n",
       "2   1642         1      RP      Manual          shape_LeastAxisLength   \n",
       "3   1642         1      RP      Manual          shape_MajorAxisLength   \n",
       "4   1642         1      RP      Manual  shape_Maximum2DDiameterColumn   \n",
       "\n",
       "   FeatureValue  \n",
       "0      0.839757  \n",
       "1      0.679305  \n",
       "2     23.488558  \n",
       "3     34.577340  \n",
       "4     40.050273  "
      ]
     },
     "execution_count": 46,
     "metadata": {},
     "output_type": "execute_result"
    }
   ],
   "source": [
    "df_all = df_all[['PatID', 'Fraction', 'Contour', 'ContourType', 'Feature', 'FeatureValue']]\n",
    "df_all = df_all[~df_all[\"Feature\"].isin([\"firstorder_Minimum\", \"firstorder_Maximum\"])]\n",
    "df_all.head()"
   ]
  },
  {
   "cell_type": "code",
   "execution_count": 47,
   "metadata": {},
   "outputs": [],
   "source": [
    "df_man = df_all.loc[df_all[\"ContourType\"] == \"Manual\"]\n",
    "df_limbus = df_all.loc[df_all[\"ContourType\"] == \"Auto\"]"
   ]
  },
  {
   "cell_type": "code",
   "execution_count": 48,
   "metadata": {},
   "outputs": [],
   "source": [
    "def RescaleFts(df):\n",
    "    '''\n",
    "    Rescale features to be between -1 and 1 across all patients\n",
    "    '''\n",
    "    from sklearn.preprocessing import MinMaxScaler\n",
    "    \n",
    "    df = df.copy()\n",
    "\n",
    "    # Get the features\n",
    "    fts = df[\"Feature\"].unique()\n",
    "    for ft in fts:\n",
    "        # Get the feature\n",
    "        df_ft = df.loc[df[\"Feature\"] == ft]\n",
    "        # Get the values\n",
    "        vals = df_ft[\"FeatureValue\"].values\n",
    "        vals = MinMaxScaler(feature_range=(0,1)).fit_transform(vals.reshape(-1,1))\n",
    "        # Replace\n",
    "        df.loc[df[\"Feature\"] == ft, \"FeatureValue\"] = vals\n",
    "\n",
    "    return df\n"
   ]
  },
  {
   "cell_type": "code",
   "execution_count": 49,
   "metadata": {},
   "outputs": [],
   "source": [
    "df_man = RescaleFts(df_man)\n",
    "df_limbus = RescaleFts(df_limbus)"
   ]
  },
  {
   "cell_type": "code",
   "execution_count": 50,
   "metadata": {},
   "outputs": [],
   "source": [
    "df_man.to_csv('./Features_ManualRS.csv')"
   ]
  },
  {
   "attachments": {},
   "cell_type": "markdown",
   "metadata": {},
   "source": [
    "# Feature Reduction\n",
    "#### Due to the high dimensionnality of radiomics values, it is vital that some of the features are removed if they offer no unique information. \n",
    "#### Since features are calculated by applying different formulas to images, many of these formulas are similar and so some features can be quite similar. We aim to remove all redundant features - redundant features in this model are those that are strongly correlated to volume, Spearman Rank coefficient rho > 0.6 and unstable due to contour differences, as measured by an ICC value < 0.5."
   ]
  },
  {
   "cell_type": "code",
   "execution_count": 51,
   "metadata": {},
   "outputs": [],
   "source": [
    "from Functions import Reduction as FR"
   ]
  },
  {
   "attachments": {},
   "cell_type": "markdown",
   "metadata": {},
   "source": [
    "## Volume Correlation\n",
    "#### Previous studies have shown that radiomic feature values have a strong correlation with the volume of the mask\n",
    "\n"
   ]
  },
  {
   "cell_type": "code",
   "execution_count": 52,
   "metadata": {},
   "outputs": [
    {
     "data": {
      "text/html": [
       "<div>\n",
       "<style scoped>\n",
       "    .dataframe tbody tr th:only-of-type {\n",
       "        vertical-align: middle;\n",
       "    }\n",
       "\n",
       "    .dataframe tbody tr th {\n",
       "        vertical-align: top;\n",
       "    }\n",
       "\n",
       "    .dataframe thead th {\n",
       "        text-align: right;\n",
       "    }\n",
       "</style>\n",
       "<table border=\"1\" class=\"dataframe\">\n",
       "  <thead>\n",
       "    <tr style=\"text-align: right;\">\n",
       "      <th></th>\n",
       "      <th>PatID</th>\n",
       "      <th>Fraction</th>\n",
       "      <th>Contour</th>\n",
       "      <th>ContourType</th>\n",
       "      <th>Feature</th>\n",
       "      <th>FeatureValue</th>\n",
       "    </tr>\n",
       "  </thead>\n",
       "  <tbody>\n",
       "    <tr>\n",
       "      <th>0</th>\n",
       "      <td>1642</td>\n",
       "      <td>1</td>\n",
       "      <td>RP</td>\n",
       "      <td>Manual</td>\n",
       "      <td>shape_Elongation</td>\n",
       "      <td>0.484071</td>\n",
       "    </tr>\n",
       "    <tr>\n",
       "      <th>1</th>\n",
       "      <td>1642</td>\n",
       "      <td>1</td>\n",
       "      <td>RP</td>\n",
       "      <td>Manual</td>\n",
       "      <td>shape_Flatness</td>\n",
       "      <td>0.428445</td>\n",
       "    </tr>\n",
       "    <tr>\n",
       "      <th>2</th>\n",
       "      <td>1642</td>\n",
       "      <td>1</td>\n",
       "      <td>RP</td>\n",
       "      <td>Manual</td>\n",
       "      <td>shape_LeastAxisLength</td>\n",
       "      <td>0.579815</td>\n",
       "    </tr>\n",
       "    <tr>\n",
       "      <th>3</th>\n",
       "      <td>1642</td>\n",
       "      <td>1</td>\n",
       "      <td>RP</td>\n",
       "      <td>Manual</td>\n",
       "      <td>shape_MajorAxisLength</td>\n",
       "      <td>0.642106</td>\n",
       "    </tr>\n",
       "    <tr>\n",
       "      <th>4</th>\n",
       "      <td>1642</td>\n",
       "      <td>1</td>\n",
       "      <td>RP</td>\n",
       "      <td>Manual</td>\n",
       "      <td>shape_Maximum2DDiameterColumn</td>\n",
       "      <td>0.642992</td>\n",
       "    </tr>\n",
       "  </tbody>\n",
       "</table>\n",
       "</div>"
      ],
      "text/plain": [
       "   PatID  Fraction Contour ContourType                        Feature  \\\n",
       "0   1642         1      RP      Manual               shape_Elongation   \n",
       "1   1642         1      RP      Manual                 shape_Flatness   \n",
       "2   1642         1      RP      Manual          shape_LeastAxisLength   \n",
       "3   1642         1      RP      Manual          shape_MajorAxisLength   \n",
       "4   1642         1      RP      Manual  shape_Maximum2DDiameterColumn   \n",
       "\n",
       "   FeatureValue  \n",
       "0      0.484071  \n",
       "1      0.428445  \n",
       "2      0.579815  \n",
       "3      0.642106  \n",
       "4      0.642992  "
      ]
     },
     "execution_count": 52,
     "metadata": {},
     "output_type": "execute_result"
    }
   ],
   "source": [
    "df_man.head()"
   ]
  },
  {
   "cell_type": "code",
   "execution_count": 53,
   "metadata": {},
   "outputs": [
    {
     "name": "stdout",
     "output_type": "stream",
     "text": [
      "Manual\n",
      "------------------------------\n",
      "Volume Correlation\n",
      "Correlating features to volume...\n"
     ]
    },
    {
     "name": "stderr",
     "output_type": "stream",
     "text": [
      "100%|██████████| 105/105 [00:00<00:00, 466.22it/s]\n",
      "100%|██████████| 105/105 [00:00<00:00, 486.33it/s]\n",
      "100%|██████████| 105/105 [00:00<00:00, 345.80it/s]\n",
      "100%|██████████| 105/105 [00:00<00:00, 532.98it/s]\n",
      "100%|██████████| 105/105 [00:00<00:00, 573.49it/s]\n"
     ]
    },
    {
     "name": "stdout",
     "output_type": "stream",
     "text": [
      "Volume redundant features: 22/105\n",
      "------------------------------\n",
      "Limbus\n",
      "------------------------------\n",
      "Volume Correlation\n",
      "Correlating features to volume...\n"
     ]
    },
    {
     "name": "stderr",
     "output_type": "stream",
     "text": [
      "100%|██████████| 105/105 [00:00<00:00, 620.84it/s]\n",
      "100%|██████████| 105/105 [00:00<00:00, 655.11it/s]\n",
      "100%|██████████| 105/105 [00:00<00:00, 617.52it/s]\n",
      "100%|██████████| 105/105 [00:00<00:00, 657.25it/s]\n",
      "100%|██████████| 105/105 [00:00<00:00, 568.43it/s]"
     ]
    },
    {
     "name": "stdout",
     "output_type": "stream",
     "text": [
      "Volume redundant features: 26/105\n",
      "------------------------------\n"
     ]
    },
    {
     "name": "stderr",
     "output_type": "stream",
     "text": [
      "\n"
     ]
    }
   ],
   "source": [
    "print(\"Manual\")\n",
    "FR.Volume(df_man, output_path, plot=False)\n",
    "print(\"Limbus\")\n",
    "FR.Volume(df_limbus, output_path, plot=False)"
   ]
  },
  {
   "attachments": {},
   "cell_type": "markdown",
   "metadata": {},
   "source": [
    "## ICC Stability\n",
    "#### Intra-class correlation coefficient is used as a statistical measure of how much two observed quantities within a group tend to agree with each other. \n",
    "#### Been used widely within radiomics studies as a test-retest stability measure between two delineations.\n",
    "\n"
   ]
  },
  {
   "cell_type": "code",
   "execution_count": 54,
   "metadata": {},
   "outputs": [
    {
     "name": "stdout",
     "output_type": "stream",
     "text": [
      "------------------------------\n",
      "Stability Test\n",
      "Calculating ICC...\n"
     ]
    },
    {
     "name": "stderr",
     "output_type": "stream",
     "text": [
      "100%|██████████| 105/105 [00:04<00:00, 22.30it/s]\n",
      "100%|██████████| 105/105 [00:04<00:00, 23.96it/s]\n",
      "100%|██████████| 105/105 [00:04<00:00, 22.12it/s]\n",
      "100%|██████████| 105/105 [00:04<00:00, 22.77it/s]\n",
      "100%|██████████| 105/105 [00:04<00:00, 24.23it/s]"
     ]
    },
    {
     "name": "stdout",
     "output_type": "stream",
     "text": [
      "ICC redudant features: 16/105\n",
      "------------------------------\n"
     ]
    },
    {
     "name": "stderr",
     "output_type": "stream",
     "text": [
      "\n"
     ]
    }
   ],
   "source": [
    "FR.ICC(df_all, output_path, plot=False)"
   ]
  },
  {
   "attachments": {},
   "cell_type": "markdown",
   "metadata": {},
   "source": [
    "#### Remove redundant features\n",
    "\n",
    "#### Still need to do further feature reduction"
   ]
  },
  {
   "cell_type": "code",
   "execution_count": 55,
   "metadata": {},
   "outputs": [
    {
     "name": "stdout",
     "output_type": "stream",
     "text": [
      "------------------------------\n",
      "Removing redundant features...\n",
      "Number of features removed: 33\n",
      "Number of features remaining: 72\n",
      "------------------------------\n"
     ]
    }
   ],
   "source": [
    "df_red = FR.RemoveFts(df_man, output_path)"
   ]
  },
  {
   "cell_type": "markdown",
   "metadata": {},
   "source": [
    "## Clustering I - Distance between Feature Trajectories\n",
    "#### Calculate the Euclidean distance between feature pairs.\n",
    "#### Distance values can then be used to visualise the relationship between features.\n",
    "#### Can also be used to group features together."
   ]
  },
  {
   "cell_type": "code",
   "execution_count": 56,
   "metadata": {},
   "outputs": [
    {
     "name": "stdout",
     "output_type": "stream",
     "text": [
      "Calculating Euclidean distance between feature pair trajectories...\n"
     ]
    },
    {
     "name": "stderr",
     "output_type": "stream",
     "text": [
      "100%|██████████| 20/20 [00:50<00:00,  2.55s/it]\n"
     ]
    }
   ],
   "source": [
    "from Functions import model as Ln\n",
    "Ln.DistanceMatrix(df_red, False, output_path, plot=True)"
   ]
  },
  {
   "cell_type": "markdown",
   "metadata": {},
   "source": [
    "## Clustering II - Grouping Features\n",
    "#### Hierarchical clustering using SciPy\n",
    "####   - Weighted linkage (Refers to the algorithm by which clusters are formed)\n",
    "####   - Starting T-val = 2 (Refers to the threshold value for which to go to a different cluster, i.e. how far away a value is to a cluster before a new cluster is created/put in another cluster.)\n",
    "##### Clusters with < 3 features discarded as deemed too unstable.\n",
    "##### Clusters with > 10 features re-clustered to subclusters. \n"
   ]
  },
  {
   "cell_type": "code",
   "execution_count": 57,
   "metadata": {},
   "outputs": [
    {
     "name": "stderr",
     "output_type": "stream",
     "text": [
      "c:\\Users\\b01297ar\\Documents\\ProstateMRL-local\\ProstateMRL-Radiomics\\Paper1-Release\\Functions\\Longitudinal.py:232: SettingWithCopyWarning: \n",
      "A value is trying to be set on a copy of a slice from a DataFrame.\n",
      "Try using .loc[row_indexer,col_indexer] = value instead\n",
      "\n",
      "See the caveats in the documentation: https://pandas.pydata.org/pandas-docs/stable/user_guide/indexing.html#returning-a-view-versus-a-copy\n",
      "  df[\"ClusterLabel\"] = \"\"\n",
      "c:\\Users\\b01297ar\\Documents\\ProstateMRL-local\\ProstateMRL-Radiomics\\Paper1-Release\\Functions\\Longitudinal.py:233: SettingWithCopyWarning: \n",
      "A value is trying to be set on a copy of a slice from a DataFrame.\n",
      "Try using .loc[row_indexer,col_indexer] = value instead\n",
      "\n",
      "See the caveats in the documentation: https://pandas.pydata.org/pandas-docs/stable/user_guide/indexing.html#returning-a-view-versus-a-copy\n",
      "  df[\"ClusterNumFts\"] = \"\"\n"
     ]
    },
    {
     "name": "stdout",
     "output_type": "stream",
     "text": [
      "------------------------------\n",
      "Clustering Feature Trajectories...\n"
     ]
    },
    {
     "name": "stderr",
     "output_type": "stream",
     "text": [
      "100%|██████████| 20/20 [00:01<00:00, 17.39it/s]"
     ]
    },
    {
     "name": "stdout",
     "output_type": "stream",
     "text": [
      "------------------------------\n"
     ]
    },
    {
     "name": "stderr",
     "output_type": "stream",
     "text": [
      "\n"
     ]
    }
   ],
   "source": [
    "Ln.ClusterFeatures(df_red, output_path, 1, plot=True)"
   ]
  },
  {
   "cell_type": "markdown",
   "metadata": {},
   "source": [
    "## Clustering III - Feature Selection\n",
    "#### Cross-correlation value between feature trajectories within each cluster performed to determine most “representative” feature\n",
    "####    - Highest mean cross-correlation passed through.\n",
    "####    - Top 20% of features.\n",
    "#### Each patient passes through a set of features.\n",
    "#### Features then tallied up and the top 10 ranked features are selected.\n"
   ]
  },
  {
   "cell_type": "code",
   "execution_count": 58,
   "metadata": {},
   "outputs": [
    {
     "name": "stdout",
     "output_type": "stream",
     "text": [
      "------------------------------\n",
      "Feature Selection\n",
      "Calculating Cross-Correlation values...\n",
      "Rescaling Features...\n"
     ]
    },
    {
     "name": "stderr",
     "output_type": "stream",
     "text": [
      "100%|██████████| 20/20 [00:01<00:00, 13.62it/s]"
     ]
    },
    {
     "name": "stdout",
     "output_type": "stream",
     "text": [
      "------------------------------\n",
      "Selected Features: \n",
      "glcm_JointEnergy\n",
      "gldm_LowGrayLevelEmphasis\n",
      "glrlm_HighGrayLevelRunEmphasis\n",
      "firstorder_Mean\n",
      "glcm_Correlation\n",
      "glcm_MCC\n",
      "glcm_Idm\n",
      "glcm_Contrast\n",
      "firstorder_Uniformity\n",
      "glcm_DifferenceEntropy\n",
      "glcm_JointAverage\n",
      "gldm_DependenceEntropy\n",
      "firstorder_MeanAbsoluteDeviation\n",
      "------------------------------\n",
      "Number of Selected Features: 13\n",
      "------------------------------\n"
     ]
    },
    {
     "name": "stderr",
     "output_type": "stream",
     "text": [
      "\n"
     ]
    }
   ],
   "source": [
    "Ln.FeatureSelection(df_red, True, output_path)"
   ]
  }
 ],
 "metadata": {
  "interpreter": {
   "hash": "fd78d60c78312e2835784dd761e640488478adfd13dfcaae9b4668852672f22d"
  },
  "kernelspec": {
   "display_name": "Python 3.6.5 64-bit ('py-envs': virtualenv)",
   "name": "python3"
  },
  "language_info": {
   "codemirror_mode": {
    "name": "ipython",
    "version": 3
   },
   "file_extension": ".py",
   "mimetype": "text/x-python",
   "name": "python",
   "nbconvert_exporter": "python",
   "pygments_lexer": "ipython3",
   "version": "3.7.0"
  },
  "orig_nbformat": 4
 },
 "nbformat": 4,
 "nbformat_minor": 2
}
