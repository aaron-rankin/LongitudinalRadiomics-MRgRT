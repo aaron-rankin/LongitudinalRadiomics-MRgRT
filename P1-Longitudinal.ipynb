{
 "cells": [
  {
   "attachments": {},
   "cell_type": "markdown",
   "metadata": {},
   "source": [
    "# MR-Longitudinal Radiomics\n",
    "### Radiomics pipeline created for longitudinal images collected at subsequent fractions of treatment.\n",
    "##### Full model: Feature Extraction, Feature Reduction via volume correlation & test-retest stability, Feature Selection via Euclidean distance between feature pair trajectories and hierachical clustering.\n",
    "##### Compares the results of the longitudinal model with a standard delta-radiomics approach to illustrate the importance of accounting for the full feature trajectory over treatment.\n",
    "\n",
    "###\n",
    "#### Below specify certain variables and options for customising the notebook"
   ]
  },
  {
   "cell_type": "code",
   "execution_count": 1,
   "metadata": {},
   "outputs": [],
   "source": [
    "import os\n",
    "import pandas as pd\n",
    "from tqdm import tqdm\n",
    "\n",
    "# Specify the output path\n",
    "# specify the tag to use - could be anything, helps to identify the output if running multiple models\n",
    "# default is \"Test\"\n",
    "tag = \"HM-FSTP\"\n",
    "# output_path = \"C:/Users/b01297ar/Documents/ProstateMRL-local/ProstateMRL-Radiomics/ReleaseCode/Output/\" + tag + \"/\"\n",
    "cwd = os.getcwd()\n",
    "output_path = cwd + \"/Output/\" \n",
    "if os.path.exists(output_path) == False:\n",
    "        os.mkdir(output_path)\n",
    "if os.path.exists(output_path + tag) == False:\n",
    "    os.mkdir(output_path + tag)\n",
    "    os.mkdir(output_path + tag + \"/Features/\")\n",
    "    os.mkdir(output_path + tag + \"/Extraction/\")\n",
    "    os.mkdir(output_path + tag + \"/Plots/\")\n",
    "output_path = cwd + \"/Output/\" + tag + \"/\"\n",
    "\n",
    "# specify if you want to compare to a delta model\n",
    "# default is False\n",
    "Delta_Model = False\n",
    "\n",
    "# Specify if you want to visualise the results in plots\n",
    "# default is False, can specify at given stages below if you want to visualise\n",
    "plot = False\n",
    "\n",
    "# Specify if you want to extract Features\n",
    "# default is False, option to do so is below\n",
    "# If features are already extracted, set to false and provide the path to the extracted features below\n",
    "extract = True\n"
   ]
  },
  {
   "attachments": {},
   "cell_type": "markdown",
   "metadata": {},
   "source": [
    "## Feature Extraction\n",
    "#### If you want to extract features, provide a csv containing the following:\n",
    "####               | PatID | Fraction | Image file | Mask Name | Mask file | \n",
    "#### Specify the root of the csv in the Input dir.\n",
    "#### Calculates features based on the parameter file specified. Default setting is currently set at PyRadiomics base extraction parameters - Fixed bin size (FBS) of 25, no resampling, no normalisation, 107 features (IBSI compliant) and no wavelet/laplacian filters applied. \n",
    "#### Features are then calculated and then saved in a new folder in the Output dir - with files in parquet format. Columns will be:\n",
    "#### PatID | Fraction | Mask | Feature | Feature Value |"
   ]
  },
  {
   "cell_type": "code",
   "execution_count": 2,
   "metadata": {},
   "outputs": [],
   "source": [
    "from Functions import Extraction as FE\n",
    "\n",
    "if extract == True:\n",
    "    \n",
    "    key_extraction = cwd + \"/Input/Default/PepKey_Man.csv\"\n",
    "    key_extraction = pd.read_csv(key_extraction)\n",
    "\n",
    "    extraction_path = output_path + \"/Extraction/\"\n",
    "    if not os.path.exists(extraction_path):\n",
    "        os.makedirs(extraction_path)\n",
    "\n",
    "    params_extractor = cwd + \"/Input/Default/Default_ExtractionParams.yaml\"\n",
    "\n",
    "\n",
    "    # Loop over all patients\n",
    "    print(\"Extracting features for patients...\")\n",
    "    for pat in key_extraction[\"PatID\"].unique():\n",
    "        print(\"Processing patient: \" + str(pat) + \"...\")\n",
    "\n",
    "        # Get the patient's key\n",
    "        key_pat = key_extraction[key_extraction[\"PatID\"] == pat]\n",
    "        Features_pat = pd.DataFrame()\n",
    "        # loop over all rows\n",
    "        if os.path.exists(output_path + \"/Extraction/Manual_\" + str(pat) + \"_\" + tag + \".csv\"):\n",
    "            print(\" \")\n",
    "\n",
    "        else:\n",
    "            for i, row in key_pat.iterrows():\n",
    "\n",
    "\n",
    "                PatID = row[\"PatID\"]\n",
    "                Fraction = row[\"Fraction\"]\n",
    "                Mask = row[\"Contour\"]\n",
    "                ContourType = row[\"ContourType\"]\n",
    "                ImagePath = row[\"ImagePath\"]\n",
    "                MaskPath = row[\"MaskPath\"]\n",
    "                \n",
    "                # Extract features\n",
    "                Features = FE.ExtractFeatures(PatID, Fraction, Mask, ContourType, ImagePath, MaskPath, params_extractor)\n",
    "\n",
    "                Features_pat = Features_pat.append(Features)\n",
    "            \n",
    "                \n",
    "            Features_pat.to_csv(output_path + \"/Extraction/\" + ContourType + \"_\" + str(pat) + \"_\" + tag + \".csv\", index=False)\n"
   ]
  },
  {
   "attachments": {},
   "cell_type": "markdown",
   "metadata": {},
   "source": [
    "#### Once all features have been extracted, combine in to one dataframe\n",
    "#### Or\n",
    "#### Specify the path of the feature values. \n",
    "##### Default is to read in a parquet file (smaller file sizes - so quicker), make sure to change to pd.read_csv if reading in csv and change path."
   ]
  },
  {
   "cell_type": "code",
   "execution_count": 3,
   "metadata": {},
   "outputs": [],
   "source": [
    "if extract == True:\n",
    "    df_all = pd.DataFrame()\n",
    "    files = os.listdir(output_path + \"/Extraction/\")\n",
    "    for file in files:\n",
    "        df_pat = pd.read_csv(output_path + \"/Extraction/\" + file)\n",
    "        df_all = df_all.append(df_pat)\n",
    "        \n",
    "\n",
    "        # Save the features to parquet\n",
    "    if os.path.exists(output_path + \"/Features/\") == False:\n",
    "        os.mkdir(output_path + \"/Features/\")   \n",
    "    df_all.to_csv(output_path + \"/Features/Features_\" + tag + \".csv\")\n",
    "\n",
    "else:\n",
    "    df_all = pd.read_csv(output_path + \"/Features/Features_\" + tag + \".csv\")"
   ]
  },
  {
   "cell_type": "code",
   "execution_count": 4,
   "metadata": {},
   "outputs": [
    {
     "data": {
      "text/html": [
       "<div>\n",
       "<style scoped>\n",
       "    .dataframe tbody tr th:only-of-type {\n",
       "        vertical-align: middle;\n",
       "    }\n",
       "\n",
       "    .dataframe tbody tr th {\n",
       "        vertical-align: top;\n",
       "    }\n",
       "\n",
       "    .dataframe thead th {\n",
       "        text-align: right;\n",
       "    }\n",
       "</style>\n",
       "<table border=\"1\" class=\"dataframe\">\n",
       "  <thead>\n",
       "    <tr style=\"text-align: right;\">\n",
       "      <th></th>\n",
       "      <th>PatID</th>\n",
       "      <th>Fraction</th>\n",
       "      <th>Contour</th>\n",
       "      <th>ContourType</th>\n",
       "      <th>Feature</th>\n",
       "      <th>FeatureValue</th>\n",
       "    </tr>\n",
       "  </thead>\n",
       "  <tbody>\n",
       "    <tr>\n",
       "      <th>0</th>\n",
       "      <td>1642</td>\n",
       "      <td>1</td>\n",
       "      <td>RP</td>\n",
       "      <td>Manual</td>\n",
       "      <td>shape_Elongation</td>\n",
       "      <td>0.839757</td>\n",
       "    </tr>\n",
       "    <tr>\n",
       "      <th>1</th>\n",
       "      <td>1642</td>\n",
       "      <td>1</td>\n",
       "      <td>RP</td>\n",
       "      <td>Manual</td>\n",
       "      <td>shape_Flatness</td>\n",
       "      <td>0.679305</td>\n",
       "    </tr>\n",
       "    <tr>\n",
       "      <th>2</th>\n",
       "      <td>1642</td>\n",
       "      <td>1</td>\n",
       "      <td>RP</td>\n",
       "      <td>Manual</td>\n",
       "      <td>shape_LeastAxisLength</td>\n",
       "      <td>23.488558</td>\n",
       "    </tr>\n",
       "    <tr>\n",
       "      <th>3</th>\n",
       "      <td>1642</td>\n",
       "      <td>1</td>\n",
       "      <td>RP</td>\n",
       "      <td>Manual</td>\n",
       "      <td>shape_MajorAxisLength</td>\n",
       "      <td>34.577340</td>\n",
       "    </tr>\n",
       "    <tr>\n",
       "      <th>4</th>\n",
       "      <td>1642</td>\n",
       "      <td>1</td>\n",
       "      <td>RP</td>\n",
       "      <td>Manual</td>\n",
       "      <td>shape_Maximum2DDiameterColumn</td>\n",
       "      <td>40.050273</td>\n",
       "    </tr>\n",
       "  </tbody>\n",
       "</table>\n",
       "</div>"
      ],
      "text/plain": [
       "   PatID  Fraction Contour ContourType                        Feature  \\\n",
       "0   1642         1      RP      Manual               shape_Elongation   \n",
       "1   1642         1      RP      Manual                 shape_Flatness   \n",
       "2   1642         1      RP      Manual          shape_LeastAxisLength   \n",
       "3   1642         1      RP      Manual          shape_MajorAxisLength   \n",
       "4   1642         1      RP      Manual  shape_Maximum2DDiameterColumn   \n",
       "\n",
       "   FeatureValue  \n",
       "0      0.839757  \n",
       "1      0.679305  \n",
       "2     23.488558  \n",
       "3     34.577340  \n",
       "4     40.050273  "
      ]
     },
     "execution_count": 4,
     "metadata": {},
     "output_type": "execute_result"
    }
   ],
   "source": [
    "# df_all = pd.read_csv(\"C:/Users/b01297ar/Documents/ProstateMRL-local/ProstateMRL-Radiomics/P1-TempData/Features_All.csv\")\n",
    "df_all = df_all.drop(columns=[\"Unnamed: 0\"])\n",
    "df_all = df_all[~df_all[\"Feature\"].isin([\"firstorder_Minimum\", \"firstorder_Maximum\"])]\n",
    "df_all.head()"
   ]
  },
  {
   "cell_type": "code",
   "execution_count": 5,
   "metadata": {},
   "outputs": [],
   "source": [
    "df_man = df_all.loc[df_all[\"ContourType\"] == \"Manual\"]\n",
    "df_limbus = df_all.loc[df_all[\"ContourType\"] == \"Auto\"]"
   ]
  },
  {
   "attachments": {},
   "cell_type": "markdown",
   "metadata": {},
   "source": [
    "# Feature Reduction\n",
    "#### Due to the high dimensionnality of radiomics values, it is vital that some of the features are removed if they offer no unique information. \n",
    "#### Since features are calculated by applying different formulas to images, many of these formulas are similar and so some features can be quite similar. We aim to remove all redundant features - redundant features in this model are those that are strongly correlated to volume, Spearman Rank coefficient rho > 0.6 and unstable due to contour differences, as measured by an ICC value < 0.5."
   ]
  },
  {
   "cell_type": "code",
   "execution_count": 6,
   "metadata": {},
   "outputs": [],
   "source": [
    "from Functions import Reduction as FR"
   ]
  },
  {
   "attachments": {},
   "cell_type": "markdown",
   "metadata": {},
   "source": [
    "## Volume Correlation\n",
    "#### Previous studies have shown that radiomic feature values have a strong correlation with the volume of the mask\n",
    "\n"
   ]
  },
  {
   "cell_type": "code",
   "execution_count": 7,
   "metadata": {},
   "outputs": [
    {
     "data": {
      "text/html": [
       "<div>\n",
       "<style scoped>\n",
       "    .dataframe tbody tr th:only-of-type {\n",
       "        vertical-align: middle;\n",
       "    }\n",
       "\n",
       "    .dataframe tbody tr th {\n",
       "        vertical-align: top;\n",
       "    }\n",
       "\n",
       "    .dataframe thead th {\n",
       "        text-align: right;\n",
       "    }\n",
       "</style>\n",
       "<table border=\"1\" class=\"dataframe\">\n",
       "  <thead>\n",
       "    <tr style=\"text-align: right;\">\n",
       "      <th></th>\n",
       "      <th>PatID</th>\n",
       "      <th>Fraction</th>\n",
       "      <th>Contour</th>\n",
       "      <th>ContourType</th>\n",
       "      <th>Feature</th>\n",
       "      <th>FeatureValue</th>\n",
       "    </tr>\n",
       "  </thead>\n",
       "  <tbody>\n",
       "    <tr>\n",
       "      <th>0</th>\n",
       "      <td>1642</td>\n",
       "      <td>1</td>\n",
       "      <td>RP</td>\n",
       "      <td>Manual</td>\n",
       "      <td>shape_Elongation</td>\n",
       "      <td>0.839757</td>\n",
       "    </tr>\n",
       "    <tr>\n",
       "      <th>1</th>\n",
       "      <td>1642</td>\n",
       "      <td>1</td>\n",
       "      <td>RP</td>\n",
       "      <td>Manual</td>\n",
       "      <td>shape_Flatness</td>\n",
       "      <td>0.679305</td>\n",
       "    </tr>\n",
       "    <tr>\n",
       "      <th>2</th>\n",
       "      <td>1642</td>\n",
       "      <td>1</td>\n",
       "      <td>RP</td>\n",
       "      <td>Manual</td>\n",
       "      <td>shape_LeastAxisLength</td>\n",
       "      <td>23.488558</td>\n",
       "    </tr>\n",
       "    <tr>\n",
       "      <th>3</th>\n",
       "      <td>1642</td>\n",
       "      <td>1</td>\n",
       "      <td>RP</td>\n",
       "      <td>Manual</td>\n",
       "      <td>shape_MajorAxisLength</td>\n",
       "      <td>34.577340</td>\n",
       "    </tr>\n",
       "    <tr>\n",
       "      <th>4</th>\n",
       "      <td>1642</td>\n",
       "      <td>1</td>\n",
       "      <td>RP</td>\n",
       "      <td>Manual</td>\n",
       "      <td>shape_Maximum2DDiameterColumn</td>\n",
       "      <td>40.050273</td>\n",
       "    </tr>\n",
       "  </tbody>\n",
       "</table>\n",
       "</div>"
      ],
      "text/plain": [
       "   PatID  Fraction Contour ContourType                        Feature  \\\n",
       "0   1642         1      RP      Manual               shape_Elongation   \n",
       "1   1642         1      RP      Manual                 shape_Flatness   \n",
       "2   1642         1      RP      Manual          shape_LeastAxisLength   \n",
       "3   1642         1      RP      Manual          shape_MajorAxisLength   \n",
       "4   1642         1      RP      Manual  shape_Maximum2DDiameterColumn   \n",
       "\n",
       "   FeatureValue  \n",
       "0      0.839757  \n",
       "1      0.679305  \n",
       "2     23.488558  \n",
       "3     34.577340  \n",
       "4     40.050273  "
      ]
     },
     "execution_count": 7,
     "metadata": {},
     "output_type": "execute_result"
    }
   ],
   "source": [
    "df_man.head()"
   ]
  },
  {
   "cell_type": "code",
   "execution_count": 8,
   "metadata": {},
   "outputs": [
    {
     "data": {
      "text/html": [
       "<div>\n",
       "<style scoped>\n",
       "    .dataframe tbody tr th:only-of-type {\n",
       "        vertical-align: middle;\n",
       "    }\n",
       "\n",
       "    .dataframe tbody tr th {\n",
       "        vertical-align: top;\n",
       "    }\n",
       "\n",
       "    .dataframe thead th {\n",
       "        text-align: right;\n",
       "    }\n",
       "</style>\n",
       "<table border=\"1\" class=\"dataframe\">\n",
       "  <thead>\n",
       "    <tr style=\"text-align: right;\">\n",
       "      <th></th>\n",
       "      <th>PatID</th>\n",
       "      <th>Fraction</th>\n",
       "      <th>Contour</th>\n",
       "      <th>ContourType</th>\n",
       "      <th>Feature</th>\n",
       "      <th>FeatureValue</th>\n",
       "    </tr>\n",
       "  </thead>\n",
       "  <tbody>\n",
       "    <tr>\n",
       "      <th>535</th>\n",
       "      <td>1029</td>\n",
       "      <td>1</td>\n",
       "      <td>Limbus</td>\n",
       "      <td>Auto</td>\n",
       "      <td>shape_Elongation</td>\n",
       "      <td>0.941881</td>\n",
       "    </tr>\n",
       "    <tr>\n",
       "      <th>536</th>\n",
       "      <td>1029</td>\n",
       "      <td>1</td>\n",
       "      <td>Limbus</td>\n",
       "      <td>Auto</td>\n",
       "      <td>shape_Flatness</td>\n",
       "      <td>0.650781</td>\n",
       "    </tr>\n",
       "    <tr>\n",
       "      <th>537</th>\n",
       "      <td>1029</td>\n",
       "      <td>1</td>\n",
       "      <td>Limbus</td>\n",
       "      <td>Auto</td>\n",
       "      <td>shape_LeastAxisLength</td>\n",
       "      <td>17.429830</td>\n",
       "    </tr>\n",
       "    <tr>\n",
       "      <th>538</th>\n",
       "      <td>1029</td>\n",
       "      <td>1</td>\n",
       "      <td>Limbus</td>\n",
       "      <td>Auto</td>\n",
       "      <td>shape_MajorAxisLength</td>\n",
       "      <td>26.782922</td>\n",
       "    </tr>\n",
       "    <tr>\n",
       "      <th>539</th>\n",
       "      <td>1029</td>\n",
       "      <td>1</td>\n",
       "      <td>Limbus</td>\n",
       "      <td>Auto</td>\n",
       "      <td>shape_Maximum2DDiameterColumn</td>\n",
       "      <td>31.032698</td>\n",
       "    </tr>\n",
       "  </tbody>\n",
       "</table>\n",
       "</div>"
      ],
      "text/plain": [
       "     PatID  Fraction Contour ContourType                        Feature  \\\n",
       "535   1029         1  Limbus        Auto               shape_Elongation   \n",
       "536   1029         1  Limbus        Auto                 shape_Flatness   \n",
       "537   1029         1  Limbus        Auto          shape_LeastAxisLength   \n",
       "538   1029         1  Limbus        Auto          shape_MajorAxisLength   \n",
       "539   1029         1  Limbus        Auto  shape_Maximum2DDiameterColumn   \n",
       "\n",
       "     FeatureValue  \n",
       "535      0.941881  \n",
       "536      0.650781  \n",
       "537     17.429830  \n",
       "538     26.782922  \n",
       "539     31.032698  "
      ]
     },
     "execution_count": 8,
     "metadata": {},
     "output_type": "execute_result"
    }
   ],
   "source": [
    "df_limbus.head()"
   ]
  },
  {
   "cell_type": "code",
   "execution_count": 9,
   "metadata": {},
   "outputs": [
    {
     "name": "stdout",
     "output_type": "stream",
     "text": [
      "Manual\n",
      "------------------------------\n",
      "Volume Correlation\n",
      "Correlating features to volume...\n"
     ]
    },
    {
     "name": "stderr",
     "output_type": "stream",
     "text": [
      "100%|██████████| 105/105 [00:00<00:00, 485.15it/s]\n",
      "100%|██████████| 105/105 [00:00<00:00, 545.23it/s]\n",
      "100%|██████████| 105/105 [00:00<00:00, 562.02it/s]\n",
      "100%|██████████| 105/105 [00:00<00:00, 598.62it/s]\n",
      "100%|██████████| 105/105 [00:00<00:00, 564.89it/s]\n"
     ]
    },
    {
     "name": "stdout",
     "output_type": "stream",
     "text": [
      "Volume redundant features: 22/105\n",
      "------------------------------\n",
      "Limbus\n",
      "------------------------------\n",
      "Volume Correlation\n",
      "Correlating features to volume...\n"
     ]
    },
    {
     "name": "stderr",
     "output_type": "stream",
     "text": [
      "100%|██████████| 105/105 [00:00<00:00, 547.34it/s]\n",
      "100%|██████████| 105/105 [00:00<00:00, 605.32it/s]\n",
      "100%|██████████| 105/105 [00:00<00:00, 516.00it/s]\n",
      "100%|██████████| 105/105 [00:00<00:00, 565.82it/s]\n",
      "100%|██████████| 105/105 [00:00<00:00, 525.66it/s]"
     ]
    },
    {
     "name": "stdout",
     "output_type": "stream",
     "text": [
      "Volume redundant features: 26/105\n",
      "------------------------------\n"
     ]
    },
    {
     "name": "stderr",
     "output_type": "stream",
     "text": [
      "\n"
     ]
    }
   ],
   "source": [
    "print(\"Manual\")\n",
    "FR.Volume(df_man, output_path, plot=False)\n",
    "print(\"Limbus\")\n",
    "FR.Volume(df_limbus, output_path, plot=False)"
   ]
  },
  {
   "attachments": {},
   "cell_type": "markdown",
   "metadata": {},
   "source": [
    "## ICC Stability\n",
    "#### Intra-class correlation coefficient is used as a statistical measure of how much two observed quantities within a group tend to agree with each other. \n",
    "#### Been used widely within radiomics studies as a test-retest stability measure between two delineations.\n",
    "\n"
   ]
  },
  {
   "cell_type": "code",
   "execution_count": 10,
   "metadata": {},
   "outputs": [
    {
     "name": "stdout",
     "output_type": "stream",
     "text": [
      "------------------------------\n",
      "Stability Test\n",
      "Calculating ICC...\n"
     ]
    },
    {
     "name": "stderr",
     "output_type": "stream",
     "text": [
      "100%|██████████| 105/105 [00:04<00:00, 22.13it/s]\n",
      "100%|██████████| 105/105 [00:05<00:00, 17.74it/s]\n",
      "100%|██████████| 105/105 [00:04<00:00, 22.39it/s]\n",
      "100%|██████████| 105/105 [00:05<00:00, 18.46it/s]\n",
      "100%|██████████| 105/105 [00:05<00:00, 17.78it/s]\n"
     ]
    },
    {
     "name": "stdout",
     "output_type": "stream",
     "text": [
      "ICC redudant features: 16/105\n",
      "------------------------------\n"
     ]
    }
   ],
   "source": [
    "FR.ICC(df_all, output_path, plot=False)\n"
   ]
  },
  {
   "attachments": {},
   "cell_type": "markdown",
   "metadata": {},
   "source": [
    "#### Remove redundant features\n",
    "\n",
    "#### Still need to do further feature reduction"
   ]
  },
  {
   "cell_type": "code",
   "execution_count": null,
   "metadata": {},
   "outputs": [
    {
     "name": "stdout",
     "output_type": "stream",
     "text": [
      "------------------------------\n",
      "Removing redundant features...\n",
      "Number of features removed: 33\n",
      "Number of features remaining: 72\n",
      "------------------------------\n"
     ]
    }
   ],
   "source": [
    "df_all = FR.RemoveFts(df_all, output_path)"
   ]
  },
  {
   "cell_type": "markdown",
   "metadata": {},
   "source": [
    "## Clustering I - Distance between Feature Trajectories\n",
    "#### Calculate the Euclidean distance between feature pairs.\n",
    "#### Distance values can then be used to visualise the relationship between features.\n",
    "#### Can also be used to group features together."
   ]
  },
  {
   "cell_type": "code",
   "execution_count": 13,
   "metadata": {},
   "outputs": [
    {
     "name": "stdout",
     "output_type": "stream",
     "text": [
      "Calculating Euclidean distance between feature pair trajectories...\n"
     ]
    },
    {
     "name": "stderr",
     "output_type": "stream",
     "text": [
      "100%|██████████| 20/20 [01:39<00:00,  5.00s/it]\n"
     ]
    }
   ],
   "source": [
    "from Functions import Clustering as Cl\n",
    "Cl.DistanceMatrix(df_man, output_path, True)"
   ]
  },
  {
   "cell_type": "markdown",
   "metadata": {},
   "source": [
    "## Clustering II - Grouping Features\n",
    "#### Hierarchical clustering using SciPy\n",
    "####   - Weighted linkage (Refers to the algorithm by which clusters are formed)\n",
    "####   - Starting T-val = 2 (Refers to the threshold value for which to go to a different cluster, i.e. how far away a value is to a cluster before a new cluster is created/put in another cluster.)\n",
    "##### Clusters with < 3 features discarded as deemed too unstable.\n",
    "##### Clusters with > 10 features re-clustered to subclusters. \n"
   ]
  },
  {
   "cell_type": "code",
   "execution_count": 15,
   "metadata": {},
   "outputs": [
    {
     "name": "stdout",
     "output_type": "stream",
     "text": [
      "------------------------------\n",
      "Clustering Feature Trajectories...\n"
     ]
    },
    {
     "name": "stderr",
     "output_type": "stream",
     "text": [
      "100%|██████████| 20/20 [00:01<00:00, 11.80it/s]"
     ]
    },
    {
     "name": "stdout",
     "output_type": "stream",
     "text": [
      "------------------------------\n"
     ]
    },
    {
     "name": "stderr",
     "output_type": "stream",
     "text": [
      "\n"
     ]
    }
   ],
   "source": [
    "Cl.ClusterFeatures(df_man, output_path, 2)"
   ]
  },
  {
   "cell_type": "markdown",
   "metadata": {},
   "source": [
    "## Clustering III - Feature Selection\n",
    "#### Cross-correlation value between feature trajectories within each cluster performed to determine most “representative” feature\n",
    "####    - Highest mean cross-correlation passed through.\n",
    "####    - Top 20% of features.\n",
    "#### Each patient passes through a set of features.\n",
    "#### Features then tallied up and the top 10 ranked features are selected.\n"
   ]
  },
  {
   "cell_type": "code",
   "execution_count": 16,
   "metadata": {},
   "outputs": [
    {
     "name": "stdout",
     "output_type": "stream",
     "text": [
      "------------------------------\n",
      "Feature Selection\n",
      "Calculating Cross-Correlation values...\n"
     ]
    },
    {
     "name": "stderr",
     "output_type": "stream",
     "text": [
      "100%|██████████| 20/20 [00:02<00:00,  6.96it/s]"
     ]
    },
    {
     "name": "stdout",
     "output_type": "stream",
     "text": [
      "------------------------------\n",
      "Selected Features: \n",
      "glrlm_GrayLevelVariance\n",
      "gldm_LargeDependenceEmphasis\n",
      "glrlm_RunLengthNonUniformityNormalized\n",
      "firstorder_Uniformity\n",
      "firstorder_Mean\n",
      "firstorder_RootMeanSquared\n",
      "glcm_Idn\n",
      "glcm_JointEntropy\n",
      "glcm_Correlation\n",
      "shape_MeshVolume\n",
      "glcm_DifferenceEntropy\n",
      "shape_MinorAxisLength\n",
      "glcm_SumSquares\n",
      "glcm_JointEnergy\n",
      "gldm_LowGrayLevelEmphasis\n",
      "------------------------------\n",
      "Number of Selected Features: 15\n",
      "------------------------------\n"
     ]
    },
    {
     "name": "stderr",
     "output_type": "stream",
     "text": [
      "\n"
     ]
    }
   ],
   "source": [
    "Cl.FeatureSelection(df_man, output_path)"
   ]
  },
  {
   "cell_type": "code",
   "execution_count": 28,
   "metadata": {},
   "outputs": [],
   "source": [
    "df_all = pd.read_csv(\"C:\\\\Users\\\\b01297ar\\\\Documents\\\\ProstateMRL-local\\\\ProstateMRL-Radiomics\\\\Paper1-Release\\\\Output\\\\Long-Test\\\\Features\\\\Features_Long-Test.csv\")"
   ]
  },
  {
   "cell_type": "code",
   "execution_count": 31,
   "metadata": {},
   "outputs": [
    {
     "name": "stdout",
     "output_type": "stream",
     "text": [
      "(4280, 7)\n",
      "(21400, 7)\n"
     ]
    }
   ],
   "source": [
    "df_delta = pd.DataFrame()\n",
    "patIDs = df_all[\"PatID\"].unique()\n",
    "\n",
    "for pat in patIDs:\n",
    "    df_pat = df_all[df_all[\"PatID\"] == pat]\n",
    "\n",
    "    for contour in df_pat[\"ContourType\"].unique():\n",
    "        df_contour = df_pat[df_pat[\"ContourType\"] == contour]\n",
    "\n",
    "        for ft in df_pat.Feature.unique():\n",
    "            df_ft = df_contour[df_contour[\"Feature\"] == ft]\n",
    "\n",
    "            df_fr1 = df_ft[df_ft[\"Fraction\"] == 1]\n",
    "            df_fr5 = df_ft[df_ft[\"Fraction\"] == 5]\n",
    "\n",
    "            delta = df_fr5[\"FeatureValue\"].values[0] - df_fr1[\"FeatureValue\"].values[0]\n",
    "\n",
    "            df_temp = df_fr5.copy()\n",
    "            df_temp[\"FeatureValue\"] = delta\n",
    "            \n",
    "            df_delta = df_delta.append(df_temp)\n",
    "            # get first and last fraction\n",
    "            \n",
    "\n",
    "\n",
    "            \n",
    "        \n",
    "print(df_delta.shape)      \n",
    "print(df_all.shape)\n",
    "\n",
    "df_delta.to_csv(\"C:/Users/b01297ar/Documents/ProstateMRL-local/ProstateMRL-Radiomics/P1-TempData/Features_Delta.csv\")"
   ]
  },
  {
   "cell_type": "code",
   "execution_count": null,
   "metadata": {},
   "outputs": [
    {
     "name": "stdout",
     "output_type": "stream",
     "text": [
      "Number of features in both: 1\n",
      "glrlm_GrayLevelVariance\n"
     ]
    }
   ],
   "source": [
    "L_fts = pd.read_csv(output_path + \"/Features/Features_Selected.csv\")\n",
    "D_fts = pd.read_csv(\"/home/arn/Radiomics/Paper1-Release/Output/Delta-Test/Features/Features_Selected.csv\")\n",
    "\n",
    "L_fts = L_fts[\"Feature\"].values\n",
    "D_fts = D_fts[\"Feature\"].values\n",
    "\n",
    "# get the features that are in both\n",
    "fts = [x for x in L_fts if x in D_fts]\n",
    "\n",
    "print(\"Number of features in both: \" + str(len(fts)))\n",
    "for ft in fts:\n",
    "    print(ft)"
   ]
  }
 ],
 "metadata": {
  "interpreter": {
   "hash": "fd78d60c78312e2835784dd761e640488478adfd13dfcaae9b4668852672f22d"
  },
  "kernelspec": {
   "display_name": "Python 3.6.5 64-bit ('py-envs': virtualenv)",
   "name": "python3"
  },
  "language_info": {
   "codemirror_mode": {
    "name": "ipython",
    "version": 3
   },
   "file_extension": ".py",
   "mimetype": "text/x-python",
   "name": "python",
   "nbconvert_exporter": "python",
   "pygments_lexer": "ipython3",
   "version": "3.7.0"
  },
  "orig_nbformat": 4
 },
 "nbformat": 4,
 "nbformat_minor": 2
}
