{
 "cells": [
  {
   "cell_type": "markdown",
   "metadata": {},
   "source": [
    "# Bar plot of max change during feature trajectory\n",
    "\n",
    "### Using feature values from all timepoints, find where the greatest change between 2 timepoints is "
   ]
  },
  {
   "cell_type": "code",
   "execution_count": null,
   "metadata": {},
   "outputs": [],
   "source": [
    "import pandas as pd\n",
    "import numpy as np\n",
    "import matplotlib.pyplot as plt\n",
    "import seaborn as sns\n"
   ]
  },
  {
   "cell_type": "code",
   "execution_count": null,
   "metadata": {},
   "outputs": [],
   "source": [
    "df_all = pd.read_csv('../Output/Submission-Long/features/Features_Rescaled.csv')\n",
    "df_all = df_all[df_all['ContourType'] == 'Manual']\n",
    "# drop min and max\n",
    "df_all = df_all[~df_all['Feature'].isin(['firstorder_Minimum', 'firstorder_Maximum'])]\n",
    "df_result = pd.DataFrame()\n",
    "\n",
    "patIDs = df_all['PatID'].unique()\n",
    "fts = df_all['Feature'].unique()\n",
    "\n",
    "df_all = df_all[['PatID', 'Feature', 'Fraction', 'FeatureValue']]\n",
    "df_all.drop_duplicates(subset=['PatID', 'Feature', 'Fraction'], keep='first', inplace=True)"
   ]
  },
  {
   "cell_type": "code",
   "execution_count": null,
   "metadata": {},
   "outputs": [],
   "source": [
    "# loop through all patients and trajectories\n",
    "# calculate the abs change in feature value from the first fraction to all others\n",
    "\n",
    "df_frac1_comp = pd.DataFrame()\n",
    "\n",
    "for patID in patIDs:\n",
    "    df_pat = df_all[df_all['PatID'] == patID]\n",
    "    for ft in fts:\n",
    "        df_ft = df_pat[df_pat['Feature'] == ft]\n",
    "        df_ft = df_ft.sort_values('Fraction')\n",
    "        df_ft['AbsChange'] = abs(df_ft['FeatureValue'] - df_ft['FeatureValue'].iloc[0])\n",
    "        df_frac1_comp = pd.concat([df_frac1_comp, df_ft])\n",
    "\n",
    "df_frac1_comp = df_frac1_comp[df_frac1_comp['Fraction'] != 1]\n",
    "\n",
    "\n",
    "df_frac1_comp"
   ]
  },
  {
   "cell_type": "code",
   "execution_count": null,
   "metadata": {},
   "outputs": [],
   "source": [
    "# loop over all features and pats and get the timepoint with the highest abs change\n",
    "df_max_abs_change = pd.DataFrame()\n",
    "\n",
    "for patID in patIDs:\n",
    "    df_pat = df_frac1_comp[df_frac1_comp['PatID'] == patID]\n",
    "    for ft in fts:\n",
    "        df_ft = df_pat[df_pat['Feature'] == ft]\n",
    "        df_ft = df_ft.sort_values('AbsChange', ascending=False)\n",
    "        # get the row with the highest abs change\n",
    "        max_change = df_ft.iloc[0]['AbsChange']\n",
    "        df_max_row = df_ft[df_ft['AbsChange'] == max_change]\n",
    "        df_max_row.drop_duplicates(subset=['PatID', 'Feature'], keep='first', inplace=True)\n",
    "        df_max_abs_change = pd.concat([df_max_abs_change, df_max_row])\n",
    "        "
   ]
  },
  {
   "cell_type": "code",
   "execution_count": null,
   "metadata": {},
   "outputs": [],
   "source": [
    "df_max_abs_change"
   ]
  },
  {
   "cell_type": "code",
   "execution_count": null,
   "metadata": {},
   "outputs": [],
   "source": [
    "print(df_max_abs_change.PatID.nunique())\n",
    "print(df_max_abs_change.Feature.nunique())\n",
    "print(df_max_abs_change.Fraction.nunique())\n",
    "print(df_max_abs_change.shape)"
   ]
  },
  {
   "cell_type": "code",
   "execution_count": null,
   "metadata": {},
   "outputs": [],
   "source": [
    "# find the fraction that appears most often\n",
    "print(df_max_abs_change['Fraction'].value_counts())"
   ]
  },
  {
   "cell_type": "code",
   "execution_count": null,
   "metadata": {},
   "outputs": [],
   "source": [
    "# loop over all features and pats\n",
    "# loop over all fractions and get the two fractions with the highest abs change\n",
    "df_fracAB_comp = pd.DataFrame()\n",
    "fractions = df_all['Fraction'].unique()\n",
    "\n",
    "for patID in patIDs:\n",
    "    df_pat = df_all[df_all['PatID'] == patID]\n",
    "    for ft in fts:\n",
    "        df_ft = df_pat[df_pat['Feature'] == ft]\n",
    "        \n",
    "        for fracA in fractions:\n",
    "            fracA_val = df_ft[df_ft['Fraction'] == fracA]['FeatureValue'].values[0]\n",
    "            \n",
    "            for fracB in fractions:\n",
    "                if fracB > fracA:\n",
    "            \n",
    "                    fracB_val = df_ft[df_ft['Fraction'] == fracB]['FeatureValue'].values[0]\n",
    "\n",
    "                    abs_change = abs(fracA_val - fracB_val)\n",
    "\n",
    "                    df_row = pd.DataFrame({'PatID': patID, 'Feature': ft, 'Fractions': f'{fracA}-{fracB}', 'AbsChange': abs_change}, index=[0])\n",
    "                    df_fracAB_comp = pd.concat([df_fracAB_comp, df_row])\n",
    "\n",
    "df_fracAB_comp"
   ]
  },
  {
   "cell_type": "code",
   "execution_count": null,
   "metadata": {},
   "outputs": [],
   "source": [
    "# for each patid and feature, get the fraction pair with the highest abs change\n",
    "df_max_changeAB = df_fracAB_comp.groupby(['PatID', 'Feature']).apply(lambda x: x[x['AbsChange'] == x['AbsChange'].max()]).reset_index(drop=True)\n",
    "df_max_changeAB.drop_duplicates(subset=['PatID', 'Feature'], keep='first', inplace=True)"
   ]
  },
  {
   "cell_type": "code",
   "execution_count": null,
   "metadata": {},
   "outputs": [],
   "source": [
    "df_max_changeAB['Fractions'].value_counts()"
   ]
  },
  {
   "cell_type": "code",
   "execution_count": null,
   "metadata": {},
   "outputs": [],
   "source": [
    "# bar plot of the fraction pairs with the highest abs change\n",
    "df_bar = df_max_changeAB['Fractions'].value_counts().reset_index()\n",
    "df_bar.columns = ['Fractions', 'Count']\n",
    "df_bar['fracA'] = df_bar['Fractions'].apply(lambda x: x.split('-')[0])\n",
    "df_bar['fracB'] = df_bar['Fractions'].apply(lambda x: x.split('-')[1])\n",
    "\n",
    "df_bar = df_bar.sort_values(['fracA', 'fracB'], ascending=[True, True])\n",
    "sns.set(style='whitegrid')\n",
    "plt.figure(figsize=(10, 6))\n",
    "# barplot horizontal\n",
    "sns.barplot(x='Count', y='Fractions', data=df_bar, color='#31D574')\n",
    "\n",
    "plt.xlabel('Count', fontsize=20)\n",
    "plt.ylabel('Fraction Comparison', fontsize=20)\n",
    "plt.yticks(fontsize=15)\n",
    "plt.xticks(fontsize=15)\n",
    "plt.title('Maximum Change in Feature Value Between Fractions', fontsize=24, pad=20)\n",
    "plt.savefig('./bar_max_change.png', dpi=300)\n",
    "plt.show()"
   ]
  }
 ],
 "metadata": {
  "kernelspec": {
   "display_name": "envPR",
   "language": "python",
   "name": "python3"
  },
  "language_info": {
   "codemirror_mode": {
    "name": "ipython",
    "version": 3
   },
   "file_extension": ".py",
   "mimetype": "text/x-python",
   "name": "python",
   "nbconvert_exporter": "python",
   "pygments_lexer": "ipython3",
   "version": "3.7.0"
  }
 },
 "nbformat": 4,
 "nbformat_minor": 2
}
