{
 "cells": [
  {
   "cell_type": "markdown",
   "metadata": {},
   "source": [
    "# Sensitivity Analysis of Starting Threshold Value\n",
    "\n",
    "### Threshold value specified in hierachical clustering algorithm. Metric used to determine if a new cluster should be formed based on already exisiting clusters.\n",
    "### Feature trajectories were clustered using *scipy.cluster.hierarchy.fclusterdata* \n",
    "### based on:\n",
    "### - Euclidean distances between trajectories\n",
    "### - *weighted* linkage method\n",
    "### - *distance* criterion\n",
    "###\n",
    "### Here we explored the impact of varying the starting t-val and its impact on the number of features within clusters and the number of clusters per patient\n",
    "\n",
    "### After this experiment, a starting t-val of 1.75 was employed\n"
   ]
  },
  {
   "cell_type": "code",
   "execution_count": null,
   "metadata": {},
   "outputs": [],
   "source": [
    "import pandas as pd\n",
    "import os\n",
    "import seaborn as sns\n",
    "import matplotlib.pyplot as plt"
   ]
  },
  {
   "cell_type": "code",
   "execution_count": null,
   "metadata": {},
   "outputs": [],
   "source": [
    "root_dir = '../Output/Sensitivity/'\n",
    "runs = os.listdir(root_dir)\n",
    "print(runs)\n",
    "\n",
    "df_res = pd.DataFrame()\n",
    "# loop through all runs and read the cluster summary file\n",
    "for run in runs:\n",
    "    file_path = f'{root_dir}{run}/Clustering/ClusterSummary.txt'\n",
    "    \n",
    "    df = pd.read_csv(file_path, sep='\\: ')\n",
    "    df = df.T\n",
    "    df.columns = df.iloc[0]\n",
    "    df = df[1:]\n",
    "    df['T-val'] = run.replace('Run-', '')\n",
    "    \n",
    "    df_res = pd.concat([df_res, df])\n",
    "\n",
    "\n",
    "# make t-val first col\n",
    "cols = df_res.columns.tolist()\n",
    "\n",
    "cols = cols[-1:] + cols[:-1]\n",
    "df_res = df_res[cols]\n",
    "\n",
    "df_res"
   ]
  },
  {
   "cell_type": "code",
   "execution_count": null,
   "metadata": {},
   "outputs": [],
   "source": [
    "# split the range of clusters and range of features per cluster into min and max\n",
    "df_res[['Min clusters', 'Max clusters']] = df_res['Range of clusters'].str.split(expand=True)\n",
    "df_res['Min clusters'] = df_res['Min clusters'].astype(int)\n",
    "df_res['Max clusters'] = df_res['Max clusters'].astype(int)\n",
    "\n",
    "# split the range of clusters and range of features per cluster into min and max\n",
    "df_res[['Min features', 'Max features']] = df_res['Range of features per cluster'].str.split(expand=True).astype(float)\n",
    "df_res['Min features'] = df_res['Min features'].astype(float)\n",
    "df_res['Max features'] = df_res['Max features'].astype(float)\n",
    "\n",
    "\n",
    "df_res.rename(columns={'Mean number of clusters per patient': 'Mean clusters per patient'}, inplace=True)\n",
    "df_res['Mean clusters per patient'] = df_res['Mean clusters per patient'].astype(float)\n",
    "df_res.drop(columns=['Range of clusters', 'Range of features per cluster'], inplace=True)"
   ]
  },
  {
   "cell_type": "code",
   "execution_count": null,
   "metadata": {},
   "outputs": [],
   "source": [
    "# make sure all columns are float\n",
    "for col in df_res.columns:\n",
    "    df_res[col] = df_res[col].astype(float)\n",
    "\n",
    "df_res.reset_index(inplace=True)\n",
    "df_res.rename(columns={'Mean number of stable clusters per patient': 'Mean stable clusters'}, inplace=True)\n",
    "df_res['index'] = df_res['index'].astype(float)\n",
    "df_res.rename(columns={'index': 'Mean stable clusters'}, inplace=True)"
   ]
  },
  {
   "cell_type": "markdown",
   "metadata": {},
   "source": [
    "### Plot of number of clusters per patient against starting t-val"
   ]
  },
  {
   "cell_type": "code",
   "execution_count": null,
   "metadata": {},
   "outputs": [],
   "source": [
    "# plot t-val vs \n",
    "sns.set_theme(style=\"whitegrid\")\n",
    "fig, ax = plt.subplots(figsize=(10, 6))\n",
    "# scatterplot of t-val vs min clusters\n",
    "sns.lineplot(data=df_res, x='T-val', y='Min clusters', linestyle='--', color='black')\n",
    "sns.lineplot(data=df_res, x='T-val', y='Max clusters', linestyle='--', color='black', label='Min/Max')\n",
    "# plot mean with sd as error bars\n",
    "sns.lineplot(data=df_res, x='T-val', y='Mean clusters per patient', color='blue', label='Mean')\n",
    "plt.fill_between(df_res['T-val'], df_res['Mean clusters per patient'] - df_res['Std of clusters'], df_res['Mean clusters per patient'] + df_res['Std of clusters'],\n",
    "                color='blue', alpha=0.2, label='Std')\n",
    "sns.lineplot(data=df_res, x='T-val', y='Mean stable clusters', color='red', label='Stable clusters')\n",
    "plt.legend(fontsize='large')\n",
    "\n",
    "plt.title('Number clusters per patient', fontsize='large')\n",
    "plt.xlabel('T-val', fontsize='large')\n",
    "plt.ylabel('Number of clusters', fontsize='large')\n",
    "plt.tight_layout()\n",
    "plt.savefig('../SubmissionVisuals/t-valSM/clusters-per-patient.png')\n",
    "plt.show()"
   ]
  },
  {
   "cell_type": "markdown",
   "metadata": {},
   "source": [
    "### Plot of mean number of features per cluster per patients against starting t-val"
   ]
  },
  {
   "cell_type": "code",
   "execution_count": null,
   "metadata": {},
   "outputs": [],
   "source": [
    "# repeat for number of features per cluster\n",
    "fig, ax = plt.subplots(figsize=(10, 6))\n",
    "\n",
    "sns.lineplot(data=df_res, x='T-val', y='Min features', linestyle='--', color='black')\n",
    "sns.lineplot(data=df_res, x='T-val', y='Max features', linestyle='--', color='black', label='Min/Max')\n",
    "# plot mean with sd as error bars\n",
    "sns.lineplot(data=df_res, x='T-val', y='Mean features per cluster per patient', color='blue', label='Mean')\n",
    "plt.fill_between(df_res['T-val'], df_res['Mean features per cluster per patient'] - df_res['Std features per cluster per patient'], df_res['Mean features per cluster per patient'] + df_res['Std features per cluster per patient'],\n",
    "                color='blue', alpha=0.2, label='Std')\n",
    "plt.legend(fontsize='large')\n",
    "\n",
    "plt.title('Mean number features per cluster per patient', fontsize='large')\n",
    "plt.xlabel('T-val', fontsize='large')\n",
    "plt.ylabel('Number of features', fontsize='large')\n",
    "plt.tight_layout()\n",
    "plt.savefig('../SubmissionVisuals/t-valSM/features-per-cluster.png')\n",
    "plt.show()"
   ]
  }
 ],
 "metadata": {
  "kernelspec": {
   "display_name": "envPR",
   "language": "python",
   "name": "python3"
  },
  "language_info": {
   "codemirror_mode": {
    "name": "ipython",
    "version": 3
   },
   "file_extension": ".py",
   "mimetype": "text/x-python",
   "name": "python",
   "nbconvert_exporter": "python",
   "pygments_lexer": "ipython3",
   "version": "3.7.0"
  }
 },
 "nbformat": 4,
 "nbformat_minor": 2
}
