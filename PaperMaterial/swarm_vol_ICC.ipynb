{
 "cells": [
  {
   "cell_type": "markdown",
   "metadata": {},
   "source": [
    "# Swarm plots for ICC / volume-correlation values\n",
    "\n",
    "### Help show the distribution of ICC and volume correlation values across treatment.\n",
    "### Identify redundant features \n",
    "### - ICC: if mean ICC across all 5 timepoints < 0.75\n",
    "### - Volume: if mean Spearman correlation > 0.6 "
   ]
  },
  {
   "cell_type": "code",
   "execution_count": null,
   "metadata": {},
   "outputs": [],
   "source": [
    "import pandas as pd\n",
    "import numpy as np\n",
    "import matplotlib.pyplot as plt\n",
    "import seaborn as sns"
   ]
  },
  {
   "cell_type": "code",
   "execution_count": null,
   "metadata": {},
   "outputs": [],
   "source": [
    "df_ICC = pd.read_csv('../Output/Submission-Long/features/Manual_ICC_Values.csv')\n",
    "df_ICC['ICC'] = df_ICC['ICC'].abs()\n",
    "\n",
    "df_ICC"
   ]
  },
  {
   "cell_type": "code",
   "execution_count": null,
   "metadata": {},
   "outputs": [],
   "source": [
    "# swarm plot of volume values\n",
    "df_Volume = pd.read_csv('../Output/Submission/features/Manual_VolCorr_TP_Values.csv')\n",
    "df_Volume"
   ]
  },
  {
   "cell_type": "code",
   "execution_count": null,
   "metadata": {},
   "outputs": [],
   "source": [
    "sns.set(style=\"whitegrid\")\n",
    "fig, ax = plt.subplots(figsize=(10, 6))\n",
    "custom_params = {\"axes.spines.right\": False, \"axes.spines.top\": False}\n",
    "sns.set_context(\"paper\", font_scale=1.5)\n",
    "sns.set_theme(style=\"whitegrid\", rc=custom_params)\n",
    "sns.swarmplot(x='Fraction', y='rho', data=df_Volume, hue='Remove', palette='coolwarm', size=8, edgecolor='black', linewidth=1, ax=ax)\n",
    "plt.legend(title='Strongly\\nCorrelated', bbox_to_anchor=(1.02, 0.6), loc=2, borderaxespad=0.0, fontsize=12)\n",
    "# plt horizonal line at 0\n",
    "plt.axhline(0.6, color='black', linewidth=3, linestyle='--')\n",
    "plt.ylim(0,1.03)\n",
    "plt.title('Volume Correlation by Fraction', fontsize=20, pad=20)\n",
    "plt.xlabel('Fraction', fontsize=16)\n",
    "plt.ylabel('Volume Correlation', fontsize=16)\n",
    "\n",
    "for axis in ['bottom','left']:\n",
    "    ax.spines[axis].set_linewidth(2)\n",
    "    ax.spines[axis].set_color('grey')\n",
    "\n",
    "plt.savefig('./swarm_volume.png', dpi=300, bbox_inches='tight')\n",
    "plt.show()"
   ]
  },
  {
   "cell_type": "code",
   "execution_count": null,
   "metadata": {},
   "outputs": [],
   "source": [
    "# swarm plot by fraction and ICC value\n",
    "plt.figure(figsize=(10, 6))\n",
    "# sns.catplot(x='Fraction', y='ICC', data=df_ICC, kind='swarm', hue='MeanICC_Class', palette='coolwarm', size=8, edgecolor='black', linewidth=1)\n",
    "sns.swarmplot(x='Fraction', y='ICC', data=df_ICC, hue='MeanICC_Class', palette='coolwarm', size=8, edgecolor='black', linewidth=1)\n",
    "# remove the catplot legend\n",
    "#plt.legend().remove()\n",
    "plt.legend(title='Mean ICC Class', bbox_to_anchor=(1.02, 0.7), loc=2, borderaxespad=0.0)\n",
    "plt.yticks([0, 0.5, 0.75, 0.9, 1])\n",
    "plt.ylim(0, 1)\n",
    "plt.axhline(0.75, color='black', linewidth=3, linestyle='--')\n",
    "plt.axhline(0.9, color='black', linewidth=3, linestyle='--')\n",
    "plt.axhline(0.5, color='black', linewidth=3, linestyle='--')\n",
    "\n",
    "plt.title('ICC Values by Fraction', fontsize=20, pad=20)\n",
    "plt.xlabel('Fraction', fontsize=16)\n",
    "plt.ylabel('ICC Value', fontsize=16)\n",
    "\n",
    "\n",
    "\n",
    "plt.savefig('./swarm_ICC.png', dpi=300, bbox_inches='tight')\n",
    "plt.show()"
   ]
  }
 ],
 "metadata": {
  "kernelspec": {
   "display_name": "envPR",
   "language": "python",
   "name": "python3"
  },
  "language_info": {
   "codemirror_mode": {
    "name": "ipython",
    "version": 3
   },
   "file_extension": ".py",
   "mimetype": "text/x-python",
   "name": "python",
   "nbconvert_exporter": "python",
   "pygments_lexer": "ipython3",
   "version": "3.7.0"
  }
 },
 "nbformat": 4,
 "nbformat_minor": 2
}
