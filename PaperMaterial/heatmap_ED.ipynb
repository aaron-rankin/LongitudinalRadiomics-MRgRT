{
 "cells": [
  {
   "cell_type": "markdown",
   "metadata": {},
   "source": [
    "# Euclidean Distance Heatmap\n",
    "\n",
    "### Visualise a 10x10 heatmap of ED between random features for an example patient"
   ]
  },
  {
   "cell_type": "code",
   "execution_count": null,
   "metadata": {},
   "outputs": [],
   "source": [
    "import pandas as pd\n",
    "import numpy as np\n",
    "import matplotlib.pyplot as plt\n",
    "import seaborn as sns"
   ]
  },
  {
   "cell_type": "code",
   "execution_count": null,
   "metadata": {},
   "outputs": [],
   "source": [
    "# pick random pat\n",
    "dm = pd.read_csv('../Output/Submission/DM/data/653.csv')\n",
    "\n",
    "# get a 10 random features and select them from columns and rows\n",
    "fts = dm.columns\n",
    "random_fts = np.random.choice(fts, 10, replace=False)\n",
    "\n",
    "dm.reset_index()\n",
    "dm.rename(columns={'Unnamed: 0':'Feature'}, inplace=True)\n",
    "\n",
    "# get index of the selected features\n",
    "idx = []\n",
    "for ft in random_fts:\n",
    "    idx.append(dm[dm['Feature'] == ft].index[0])\n",
    "\n",
    "# get the selected features\n",
    "dm = dm.iloc[idx, :]\n",
    "dm = dm.drop(columns=['Feature'])\n",
    "# select only cols with features\n",
    "dm = dm[random_fts]\n",
    "\n",
    "print(dm.shape)\n",
    "dm_vals = dm.values\n"
   ]
  },
  {
   "cell_type": "code",
   "execution_count": null,
   "metadata": {},
   "outputs": [],
   "source": [
    "# plot the heatmap\n",
    "plt.figure(figsize=(8, 8))\n",
    "sns.heatmap(dm_vals, cmap='Reds', square=True, annot=False, cbar=True, vmin=0,\n",
    "            cbar_kws={'shrink':0.8, 'label': 'Euclidean Distance'}, edgecolor='black', linewidth=0.5)\n",
    "\n",
    "plt.gcf().axes[-1].yaxis.label.set_size(15)\n",
    "\n",
    "plt.title('Euclidean Distance Matrix', fontsize=30, pad=20)\n",
    "plt.xlabel('Feature A', fontsize=25)\n",
    "plt.ylabel('Feature B', fontsize=25)\n",
    "\n",
    "# turn off ticks on cbar\n",
    "plt.gcf().axes[-1].yaxis.set_visible(False)\n",
    "\n",
    "# turn off ticks\n",
    "plt.xticks([])\n",
    "plt.yticks([])\n",
    "\n",
    "plt.tight_layout()\n",
    "plt.savefig('./hm_ED_example.png', dpi=300)"
   ]
  }
 ],
 "metadata": {
  "kernelspec": {
   "display_name": "envPR",
   "language": "python",
   "name": "python3"
  },
  "language_info": {
   "codemirror_mode": {
    "name": "ipython",
    "version": 3
   },
   "file_extension": ".py",
   "mimetype": "text/x-python",
   "name": "python",
   "nbconvert_exporter": "python",
   "pygments_lexer": "ipython3",
   "version": "3.7.0"
  }
 },
 "nbformat": 4,
 "nbformat_minor": 2
}
