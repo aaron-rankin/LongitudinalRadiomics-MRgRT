{
 "cells": [
  {
   "cell_type": "markdown",
   "metadata": {},
   "source": [
    "# Feature Trajectories within each cluster for each patient\n",
    "\n",
    "### Show how features evolve over time in clustered groups\n",
    "### Features grouped using hierarchical clustering"
   ]
  },
  {
   "cell_type": "code",
   "execution_count": null,
   "metadata": {},
   "outputs": [],
   "source": [
    "import pandas as pd\n",
    "import seaborn as sns\n",
    "import matplotlib.pyplot as plt\n",
    "import numpy as np\n",
    "import os"
   ]
  },
  {
   "cell_type": "code",
   "execution_count": null,
   "metadata": {},
   "outputs": [],
   "source": [
    "# get selected features\n",
    "fts_sel = pd.read_csv('../Output/Submission-Long/features/Features_Selected.csv')\n",
    "fts_sel = fts_sel['Feature'].values\n",
    "\n",
    "df_fts = pd.read_csv('../Output/Submission-Long/features/Features_Rescaled.csv')\n",
    "df_fts = df_fts[df_fts['ContourType'] == 'Manual']\n",
    "df_fts['Selected'] = 0\n",
    "df_fts.loc[df_fts['Feature'].isin(fts_sel), 'Selected'] = 1\n"
   ]
  },
  {
   "cell_type": "code",
   "execution_count": null,
   "metadata": {},
   "outputs": [],
   "source": [
    "# get cluster labels\n",
    "df_cluster_labels = pd.DataFrame()\n",
    "labels_dir = '../Output/Submission/Clustering/Labels/'\n",
    "csvs = os.listdir(labels_dir)\n",
    "\n",
    "for csv in csvs:\n",
    "    df = pd.read_csv(labels_dir + csv)\n",
    "    df['PatID'] = csv.split('.')[0]\n",
    "    df_cluster_labels = pd.concat([df_cluster_labels, df])\n",
    "\n",
    "\n",
    "fts_clustered = df_cluster_labels['Feature'].unique()\n",
    "\n",
    "df_cluster_labels"
   ]
  },
  {
   "cell_type": "code",
   "execution_count": null,
   "metadata": {},
   "outputs": [],
   "source": [
    "df_fts = df_fts[df_fts['Feature'].isin(fts_clustered)]\n",
    "df_cluster_labels['PatID'] = df_cluster_labels['PatID'].astype(str)\n",
    "df_fts['PatID'] = df_fts['PatID'].astype(str)\n",
    "df_fts = df_fts.merge(df_cluster_labels, on=['Feature', 'PatID'], how='left')\n",
    "\n",
    "\n",
    "df_fts.sample(5)"
   ]
  },
  {
   "cell_type": "code",
   "execution_count": null,
   "metadata": {},
   "outputs": [],
   "source": [
    "# loop through pat 1088 and plot each cluster and save\n",
    "sns.set_style('whitegrid')\n",
    "\n",
    "for pat in df_fts['PatID'].unique():\n",
    "    df_pat = df_fts[df_fts['PatID'] == pat]\n",
    "\n",
    "    print('-------------------')\n",
    "    print(pat)\n",
    "\n",
    "    for i, cluster in enumerate(df_pat['ClusterLabel'].unique()):\n",
    "        df_cluster = df_pat[df_pat['ClusterLabel'] == cluster]\n",
    "\n",
    "        fig, ax = plt.subplots(figsize=(4, 4))\n",
    "\n",
    "        fts_cluster = df_cluster['Feature'].unique()\n",
    "        for ft in fts_cluster:\n",
    "            df_ft = df_cluster[df_cluster['Feature'] == ft]\n",
    "            # change line properties based on selected or not\n",
    "            color = 'grey' if df_ft['Selected'].values[0] == 0 else 'red'\n",
    "            label = ft if df_ft['Selected'].values[0] == 1 else None\n",
    "            alpha = 0.7 if df_ft['Selected'].values[0] == 0 else 1\n",
    "            width = 2.5 if df_ft['Selected'].values[0] == 1 else 1\n",
    "            \n",
    "            ax.plot(df_ft['Fraction'], df_ft['FeatureValue'], color=color, linewidth=width, label=label, alpha=alpha)\n",
    "        \n",
    "        ax.set_title(f'Cluster - {i + 1}', fontsize=18)\n",
    "        ax.set_ylim(0, 1)\n",
    "        ax.set_xticks(np.arange(1, 5.1, 1))\n",
    "        ax.yaxis.set_tick_params(labelsize=12)\n",
    "        ax.xaxis.set_tick_params(labelsize=12)\n",
    "        \n",
    "        if not os.path.exists(f'./ExampleCluster/{pat}'):\n",
    "            os.makedirs(f'./ExampleCluster/{pat}')\n",
    "        plt.savefig(f'./ExampleCluster/{pat}/Cluster-{i+1}.png', dpi=300, bbox_inches='tight')\n",
    "        plt.close()"
   ]
  },
  {
   "cell_type": "code",
   "execution_count": null,
   "metadata": {},
   "outputs": [],
   "source": [
    "# pick random patients\n",
    "# loop through each feature and lineplot for each cluster\n",
    "\n",
    "sns.set_style('whitegrid')\n",
    "\n",
    "rand_pats = df_fts['PatID'].unique()\n",
    "for pat in rand_pats:\n",
    "    df_pat = df_fts[df_fts['PatID'] == pat]\n",
    "\n",
    "    print(pat)\n",
    "\n",
    "    # need to pivot the table based on fraction and feature value\n",
    "    print(df_pat['ClusterLabel'].nunique())\n",
    "    # make a subplot that is 4 plots per row\n",
    "    num_rows = int(np.ceil(df_pat['ClusterLabel'].nunique() / 3))\n",
    "    fig, axs = plt.subplots(num_rows, 3, figsize=(10, 5 * num_rows))\n",
    "\n",
    "    for i, cluster in enumerate(df_pat['ClusterLabel'].unique()):\n",
    "        df_cluster = df_pat[df_pat['ClusterLabel'] == cluster]\n",
    "\n",
    "        if num_rows > 1:\n",
    "            ax = axs[i // 3, i % 3]\n",
    "        else:\n",
    "            ax = axs[i]\n",
    "\n",
    "        fts_cluster = df_cluster['Feature'].unique()\n",
    "        for ft in fts_cluster:\n",
    "            df_ft = df_cluster[df_cluster['Feature'] == ft]\n",
    "            color = 'grey' if df_ft['Selected'].values[0] == 0 else 'red'\n",
    "            label = ft if df_ft['Selected'].values[0] == 1 else None\n",
    "            ax.plot(df_ft['Fraction'], df_ft['FeatureValue'], color=color, linewidth=2, label=label)\n",
    "        ax.set_title(f'Cluster {i + 1}', fontsize=18)\n",
    "        ax.set_ylim(0, 1)\n",
    "        ax.set_xticks(np.arange(1, 5.1, 1))\n",
    "        ax.legend(loc='upper right', fontsize=12)\n",
    "\n",
    "        ax.yaxis.set_tick_params(labelsize=12)\n",
    "        ax.xaxis.set_tick_params(labelsize=12)\n",
    "\n",
    "        # if plot is empty, remove it\n",
    "        if len(fts_cluster) == 0:\n",
    "            fig.delaxes(ax)\n",
    "    plt.savefig(f'./ExampleCluster/{pat}/{pat}_all.png', dpi=300, bbox_inches='tight')\n",
    "    plt.show()\n",
    "    "
   ]
  }
 ],
 "metadata": {
  "kernelspec": {
   "display_name": "envPR",
   "language": "python",
   "name": "python3"
  },
  "language_info": {
   "codemirror_mode": {
    "name": "ipython",
    "version": 3
   },
   "file_extension": ".py",
   "mimetype": "text/x-python",
   "name": "python",
   "nbconvert_exporter": "python",
   "pygments_lexer": "ipython3",
   "version": "3.7.0"
  }
 },
 "nbformat": 4,
 "nbformat_minor": 2
}
