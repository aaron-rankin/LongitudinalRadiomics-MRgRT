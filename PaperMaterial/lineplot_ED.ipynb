{
 "cells": [
  {
   "cell_type": "markdown",
   "metadata": {},
   "source": [
    "# Lineplot for ED Calculation\n",
    "\n",
    "### Example of Euclidean Distance Calculation between 2 feature trajectories used to cluster features together"
   ]
  },
  {
   "cell_type": "code",
   "execution_count": null,
   "metadata": {},
   "outputs": [],
   "source": [
    "import pandas as pd\n",
    "import numpy as np\n",
    "import matplotlib.pyplot as plt\n",
    "import seaborn as sns\n",
    "import os\n",
    "\n",
    "df = pd.read_csv('../Features_ManualRS.csv')\n",
    "df = df.drop(['Unnamed: 0'], axis=1)\n",
    "\n",
    "df.sample(5)"
   ]
  },
  {
   "cell_type": "code",
   "execution_count": null,
   "metadata": {},
   "outputs": [],
   "source": [
    "# pick random patinet and features\n",
    "patIDs = df['PatID'].unique()\n",
    "rand_pats = np.random.choice(patIDs, 1, replace=False)\n",
    "df_plot = df[df['PatID'].isin(rand_pats)]\n",
    "\n",
    "\n",
    "fts = df_plot['Feature'].unique()\n",
    "rand_fts = np.random.choice(fts, 2, replace=False)\n"
   ]
  },
  {
   "cell_type": "code",
   "execution_count": null,
   "metadata": {},
   "outputs": [],
   "source": [
    "df_plot = df_plot.loc[df_plot['Feature'].isin(fts)]\n",
    "custom_params = {\"axes.spines.right\": False, \"axes.spines.top\": False}\n",
    "sns.set_context(\"paper\", font_scale=1.5)\n",
    "sns.set_theme(style=\"whitegrid\", rc=custom_params)\n",
    "fig, ax = plt.subplots(1, 1, figsize=(8, 8))\n",
    "# plot\n",
    "# ft 1\n",
    "sns.lineplot(data = df_plot.loc[df_plot['Feature'] == rand_fts[0]], x = 'Fraction', y='FeatureValue',\n",
    "              ax=ax, label='Feature A', linewidth=2, legend=True, palette='muted', marker='o', markersize=10)\n",
    "\n",
    "# ft 2\n",
    "sns.lineplot(data = df_plot.loc[df_plot['Feature'] == rand_fts[1]], x = 'Fraction', y='FeatureValue',\n",
    "              ax=ax, label='Feature B', linewidth=2, legend=True, palette='muted', marker='o', markersize=10)\n",
    "\n",
    "# axis labels\n",
    "ax.set_xlabel('Fraction', fontsize=25)\n",
    "ax.set_ylabel('Feature Value', fontsize=25)\n",
    "#ax.set_xlim([0.97, 5.03])\n",
    "ax.set_ylim([0, 1.0])\n",
    "ax.set_xticks(np.arange(1, 5.1, 1))\n",
    "ax.set_xticklabels(np.arange(1, 6, 1), fontsize=20)\n",
    "ax.set_yticklabels([0.0, 0.2, 0.4, 0.6, 0.8, 1.0], fontsize=20)\n",
    "ax.set_title('Feature Trajectories', fontsize=30, pad=20)\n",
    "\n",
    "# get vals for dashed line\n",
    "y_vals1 = df_plot.loc[df_plot['Feature'] == rand_fts[0]]['FeatureValue'].values + 0.01\n",
    "y_vals2 = df_plot.loc[df_plot['Feature'] == rand_fts[1]]['FeatureValue'].values - 0.01\n",
    "\n",
    "for i in range(1, 6):\n",
    "    ax.vlines(i, y_vals1[i-1], y_vals2[i-1], color='black', linestyle='dashed', linewidth=3)\n",
    "# add in dashed line to legend\n",
    "ax.plot([], [], 'k--', label='Euclidean Distance', linewidth=1.5)\n",
    "ax.legend(fontsize=20, loc='upper right')\n",
    "\n",
    "plt.tight_layout()\n",
    "plt.savefig('./lineplot_ED.png', dpi=300)\n"
   ]
  }
 ],
 "metadata": {
  "kernelspec": {
   "display_name": "envPR",
   "language": "python",
   "name": "python3"
  },
  "language_info": {
   "codemirror_mode": {
    "name": "ipython",
    "version": 3
   },
   "file_extension": ".py",
   "mimetype": "text/x-python",
   "name": "python",
   "nbconvert_exporter": "python",
   "pygments_lexer": "ipython3",
   "version": "3.7.0"
  }
 },
 "nbformat": 4,
 "nbformat_minor": 2
}
