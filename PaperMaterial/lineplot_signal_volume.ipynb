{
 "cells": [
  {
   "cell_type": "markdown",
   "metadata": {},
   "source": [
    "# Compare Signal and Volume\n",
    "\n",
    "### To illustrate changes over treatment, compare the median signal within the prostate and the volume change over treatment"
   ]
  },
  {
   "cell_type": "code",
   "execution_count": null,
   "metadata": {},
   "outputs": [],
   "source": [
    "import os\n",
    "import matplotlib.pyplot as plt\n",
    "import numpy as np\n",
    "import pandas as pd\n",
    "import seaborn as sns\n",
    "\n",
    "df = pd.read_csv('../Output/Submission-Long/Features_Rescaled.csv')\n",
    "df = df[df['ContourType'] == 'Manual']\n",
    "df = df[df['Feature'].isin(['shape_MeshVolume', 'firstorder_Median'])]\n",
    "df = df[['PatID','Fraction','Feature','FeatureValue']]"
   ]
  },
  {
   "cell_type": "code",
   "execution_count": null,
   "metadata": {},
   "outputs": [],
   "source": [
    "df_signal = df[df['Feature'] == 'firstorder_Median']\n",
    "df_signal = df_signal[['PatID','Fraction','FeatureValue']]\n",
    "df_signal = df_signal.rename(columns={'FeatureValue': 'Signal'})\n",
    "\n",
    "df_volume = df[df['Feature'] == 'shape_MeshVolume']\n",
    "df_volume = df_volume[['PatID','Fraction','FeatureValue']]\n",
    "df_volume = df_volume.rename(columns={'FeatureValue': 'Volume'})"
   ]
  },
  {
   "cell_type": "code",
   "execution_count": null,
   "metadata": {},
   "outputs": [],
   "source": [
    "df_plot = pd.merge(df_signal, df_volume, on=['PatID','Fraction'])\n",
    "df_plot = df_plot.melt(id_vars=['PatID','Fraction'], var_name='Feature', value_name='Value')\n",
    "# rename to Signal and Volume\n",
    "df_plot['Feature'] = df_plot['Feature'].replace({'Signal': 'MedianSignal', 'Volume': 'Volume'})"
   ]
  },
  {
   "cell_type": "code",
   "execution_count": null,
   "metadata": {},
   "outputs": [],
   "source": [
    "# plot using matplotlib\n",
    "\n",
    "sns.set_style('whitegrid')\n",
    "sns.despine()\n",
    "fig, ax = plt.subplots(figsize=(12, 6))\n",
    "# custom_params = {\"axes.spines.right\": False, \"axes.spines.top\": False}\n",
    "\n",
    "sns.lineplot(data=df_plot, x='Fraction', y='Value', hue='Feature', ax=ax, ci=95, \n",
    "             legend='full', palette='hls', linewidth=2.5, markers=True, style='Feature', estimator=np.mean,\n",
    "             markersize=10)#, err_style='bars', err_kws={'elinewidth': 1.5, 'capsize': 3, 'capthick': 1.5})\n",
    "ax.set_xlabel('Fraction', fontsize=20)\n",
    "ax.set_ylabel('Feature Value', fontsize=20)\n",
    "ax.set_title('Changes in Median Signal and Volume over Treatment', fontsize=20, pad=20)\n",
    "ax.legend(loc='upper right', borderaxespad=0.)\n",
    "ax.set_xlim(0.95, 5.05)\n",
    "ax.set_xticks([1, 2, 3, 4, 5])\n",
    "ax.set_xticklabels(['1', '2', '3', '4', '5'], fontsize=16)\n",
    "ax.set_ylim(0.1, 0.6)\n",
    "#ax.set_yticks([0.0, 0.1, 0.2, 0.3, 0.4, 0.5, 0.6], fontsize=16)\n",
    "ax.tick_params(axis='both', which='major', labelsize=16)\n",
    "# pad title, move up\n",
    "plt.subplots_adjust(top=0.9)\n",
    "# make legend bigger\n",
    "plt.setp(ax.get_legend().get_texts(), fontsize='16')\n",
    "plt.setp(ax.get_legend().get_title(), fontsize='16')\n",
    "plt.legend(bbox_to_anchor=(0.8, 0.9), loc=2, borderaxespad=0., fontsize=16)\n",
    "\n",
    "\n",
    "plt.tight_layout()\n",
    "plt.savefig('./lineplot_signal_volume.png', dpi=300)\n",
    "\n",
    "plt.show()\n"
   ]
  },
  {
   "cell_type": "code",
   "execution_count": null,
   "metadata": {},
   "outputs": [],
   "source": [
    "df_signal = df_plot[df_plot['Feature'] == 'MedianSignal']\n",
    "df_signal = df_signal[['PatID','Fraction','Value']]\n",
    "df_signal_l = df_signal.copy()\n",
    "df_signal_d = df_signal.loc[df_signal['Fraction'].isin([1, 5])]"
   ]
  },
  {
   "cell_type": "code",
   "execution_count": null,
   "metadata": {},
   "outputs": [],
   "source": [
    "# get random patients\n",
    "patIDs = df_signal['PatID'].unique()\n",
    "rand_pats = np.random.choice(patIDs, 3, replace=False)\n",
    "print(rand_pats)"
   ]
  },
  {
   "cell_type": "code",
   "execution_count": null,
   "metadata": {},
   "outputs": [],
   "source": [
    "df_signal_d['Model'] = 'Delta'\n",
    "df_signal_l['Model'] = 'Longitudinal'\n",
    "df_plt2 = df_signal_d.append(df_signal_l)\n",
    "df_plt2 = df_plt2[df_plt2['PatID'].isin(rand_pats)]\n",
    "# sort reverse order bu mode;\n",
    "df_plt2 = df_plt2.sort_values(by=['Model'], ascending=False)"
   ]
  }
 ],
 "metadata": {
  "kernelspec": {
   "display_name": "envPR",
   "language": "python",
   "name": "python3"
  },
  "language_info": {
   "codemirror_mode": {
    "name": "ipython",
    "version": 3
   },
   "file_extension": ".py",
   "mimetype": "text/x-python",
   "name": "python",
   "nbconvert_exporter": "python",
   "pygments_lexer": "ipython3",
   "version": "3.7.0"
  }
 },
 "nbformat": 4,
 "nbformat_minor": 2
}
