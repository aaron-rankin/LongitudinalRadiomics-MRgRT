{
 "cells": [
  {
   "attachments": {},
   "cell_type": "markdown",
   "metadata": {},
   "source": [
    "# MR-Longitudinal Radiomics\n",
    "### Radiomics pipeline created for longitudinal images collected at subsequent fractions of treatment.\n",
    "##### Full model: Feature Extraction, Feature Reduction via volume correlation & test-retest stability, Feature Selection via Euclidean distance between feature pair trajectories and hierachical clustering.\n",
    "##### Compares the results of the longitudinal model with a standard delta-radiomics approach to illustrate the importance of accounting for the full feature trajectory over treatment.\n",
    "\n",
    "###\n",
    "#### Below specify certain variables and options for customising the notebook"
   ]
  },
  {
   "cell_type": "code",
   "execution_count": 1,
   "metadata": {},
   "outputs": [],
   "source": [
    "import os\n",
    "import pandas as pd\n",
    "from tqdm import tqdm\n",
    "\n",
    "# Specify the output path\n",
    "# specify the tag to use - could be anything, helps to identify the output if running multiple models\n",
    "# default is \"Test\"\n",
    "tag = \"HM-FSTP-Delta\"\n",
    "# output_path = \"C:/Users/b01297ar/Documents/ProstateMRL-local/ProstateMRL-Radiomics/ReleaseCode/Output/\" + tag + \"/\"\n",
    "cwd = os.getcwd()\n",
    "output_path = cwd + \"/Output/\" \n",
    "if os.path.exists(output_path) == False:\n",
    "        os.mkdir(output_path)\n",
    "if os.path.exists(output_path + tag) == False:\n",
    "    os.mkdir(output_path + tag)\n",
    "    os.mkdir(output_path + tag + \"/Features/\")\n",
    "    os.mkdir(output_path + tag + \"/Extraction/\")\n",
    "    os.mkdir(output_path + tag + \"/Plots/\")\n",
    "output_path = cwd + \"/Output/\" + tag + \"/\"\n",
    "\n",
    "# specify if you want to compare to a delta model\n",
    "# default is False\n",
    "Delta_Model = False\n",
    "\n",
    "# Specify if you want to visualise the results in plots\n",
    "# default is False, can specify at given stages below if you want to visualise\n",
    "plot = False\n",
    "\n",
    "# Specify if you want to extract Features\n",
    "# default is False, option to do so is below\n",
    "# If features are already extracted, set to false and provide the path to the extracted features below\n",
    "extract = True\n"
   ]
  },
  {
   "attachments": {},
   "cell_type": "markdown",
   "metadata": {},
   "source": [
    "## Feature Extraction\n",
    "#### If you want to extract features, provide a csv containing the following:\n",
    "####               | PatID | Fraction | Image file | Mask Name | Mask file | \n",
    "#### Specify the root of the csv in the Input dir.\n",
    "#### Calculates features based on the parameter file specified. Default setting is currently set at PyRadiomics base extraction parameters - Fixed bin size (FBS) of 25, no resampling, no normalisation, 107 features (IBSI compliant) and no wavelet/laplacian filters applied. \n",
    "#### Features are then calculated and then saved in a new folder in the Output dir - with files in parquet format. Columns will be:\n",
    "#### PatID | Fraction | Mask | Feature | Feature Value |"
   ]
  },
  {
   "attachments": {},
   "cell_type": "markdown",
   "metadata": {},
   "source": [
    "#### Once all features have been extracted, combine in to one dataframe\n",
    "#### Or\n",
    "#### Specify the path of the feature values. \n",
    "##### Default is to read in a parquet file (smaller file sizes - so quicker), make sure to change to pd.read_csv if reading in csv and change path."
   ]
  },
  {
   "cell_type": "code",
   "execution_count": 2,
   "metadata": {},
   "outputs": [
    {
     "data": {
      "text/html": [
       "<div>\n",
       "<style scoped>\n",
       "    .dataframe tbody tr th:only-of-type {\n",
       "        vertical-align: middle;\n",
       "    }\n",
       "\n",
       "    .dataframe tbody tr th {\n",
       "        vertical-align: top;\n",
       "    }\n",
       "\n",
       "    .dataframe thead th {\n",
       "        text-align: right;\n",
       "    }\n",
       "</style>\n",
       "<table border=\"1\" class=\"dataframe\">\n",
       "  <thead>\n",
       "    <tr style=\"text-align: right;\">\n",
       "      <th></th>\n",
       "      <th>PatID</th>\n",
       "      <th>Fraction</th>\n",
       "      <th>Contour</th>\n",
       "      <th>ContourType</th>\n",
       "      <th>Feature</th>\n",
       "      <th>FeatureValue</th>\n",
       "    </tr>\n",
       "  </thead>\n",
       "  <tbody>\n",
       "    <tr>\n",
       "      <th>428</th>\n",
       "      <td>1601</td>\n",
       "      <td>5</td>\n",
       "      <td>RP</td>\n",
       "      <td>Manual</td>\n",
       "      <td>shape_Elongation</td>\n",
       "      <td>0.026751</td>\n",
       "    </tr>\n",
       "    <tr>\n",
       "      <th>429</th>\n",
       "      <td>1601</td>\n",
       "      <td>5</td>\n",
       "      <td>RP</td>\n",
       "      <td>Manual</td>\n",
       "      <td>shape_Flatness</td>\n",
       "      <td>-0.023634</td>\n",
       "    </tr>\n",
       "    <tr>\n",
       "      <th>430</th>\n",
       "      <td>1601</td>\n",
       "      <td>5</td>\n",
       "      <td>RP</td>\n",
       "      <td>Manual</td>\n",
       "      <td>shape_LeastAxisLength</td>\n",
       "      <td>-1.104368</td>\n",
       "    </tr>\n",
       "    <tr>\n",
       "      <th>431</th>\n",
       "      <td>1601</td>\n",
       "      <td>5</td>\n",
       "      <td>RP</td>\n",
       "      <td>Manual</td>\n",
       "      <td>shape_MajorAxisLength</td>\n",
       "      <td>-0.590490</td>\n",
       "    </tr>\n",
       "    <tr>\n",
       "      <th>432</th>\n",
       "      <td>1601</td>\n",
       "      <td>5</td>\n",
       "      <td>RP</td>\n",
       "      <td>Manual</td>\n",
       "      <td>shape_Maximum2DDiameterColumn</td>\n",
       "      <td>-0.907090</td>\n",
       "    </tr>\n",
       "  </tbody>\n",
       "</table>\n",
       "</div>"
      ],
      "text/plain": [
       "     PatID  Fraction Contour ContourType                        Feature  \\\n",
       "428   1601         5      RP      Manual               shape_Elongation   \n",
       "429   1601         5      RP      Manual                 shape_Flatness   \n",
       "430   1601         5      RP      Manual          shape_LeastAxisLength   \n",
       "431   1601         5      RP      Manual          shape_MajorAxisLength   \n",
       "432   1601         5      RP      Manual  shape_Maximum2DDiameterColumn   \n",
       "\n",
       "     FeatureValue  \n",
       "428      0.026751  \n",
       "429     -0.023634  \n",
       "430     -1.104368  \n",
       "431     -0.590490  \n",
       "432     -0.907090  "
      ]
     },
     "execution_count": 2,
     "metadata": {},
     "output_type": "execute_result"
    }
   ],
   "source": [
    "df_all = pd.read_csv(output_path.replace(\"-Delta\", \"\") + \"Features/Features_All.csv\")\n",
    "df_all = df_all.drop(columns=[\"Unnamed: 0\"])\n",
    "df_all = df_all[~df_all[\"Feature\"].isin([\"firstorder_Minimum\", \"firstorder_Maximum\"])]\n",
    "\n",
    "df_all = df_all[df_all[\"Fraction\"].isin([1, 5])]\n",
    "\n",
    "patIDs = df_all[\"PatID\"].unique()\n",
    "fts = df_all[\"Feature\"].unique()\n",
    "Contours = df_all[\"ContourType\"].unique()\n",
    "\n",
    "df_all[\"Delta\"] = 0\n",
    "\n",
    "for pat in patIDs:\n",
    "    for ft in fts:\n",
    "        for ct in Contours:\n",
    "            df_all.loc[(df_all[\"PatID\"] == pat) & (df_all[\"Feature\"] == ft) & (df_all[\"ContourType\"] == ct), \"Delta\"] = df_all.loc[(df_all[\"PatID\"] == pat) & (df_all[\"Feature\"] == ft) & (df_all[\"ContourType\"] == ct), \"FeatureValue\"].diff()\n",
    "        \n",
    "df_all.drop(columns=[\"FeatureValue\"], inplace=True)\n",
    "df_all.rename(columns={\"Delta\": \"FeatureValue\"}, inplace=True)\n",
    "\n",
    "df_all = df_all[df_all[\"Fraction\"] == 5]\n",
    "\n",
    "df_all.head()"
   ]
  },
  {
   "cell_type": "code",
   "execution_count": 3,
   "metadata": {},
   "outputs": [],
   "source": [
    "df_man = df_all.loc[df_all[\"ContourType\"] == \"Manual\"]\n",
    "df_limbus = df_all.loc[df_all[\"ContourType\"] == \"Auto\"]"
   ]
  },
  {
   "attachments": {},
   "cell_type": "markdown",
   "metadata": {},
   "source": [
    "# Feature Reduction\n",
    "#### Due to the high dimensionnality of radiomics values, it is vital that some of the features are removed if they offer no unique information. \n",
    "#### Since features are calculated by applying different formulas to images, many of these formulas are similar and so some features can be quite similar. We aim to remove all redundant features - redundant features in this model are those that are strongly correlated to volume, Spearman Rank coefficient rho > 0.6 and unstable due to contour differences, as measured by an ICC value < 0.5."
   ]
  },
  {
   "cell_type": "code",
   "execution_count": 4,
   "metadata": {},
   "outputs": [],
   "source": [
    "from Functions import Reduction as FR"
   ]
  },
  {
   "attachments": {},
   "cell_type": "markdown",
   "metadata": {},
   "source": [
    "## Volume Correlation\n",
    "#### Previous studies have shown that radiomic feature values have a strong correlation with the volume of the mask\n",
    "\n"
   ]
  },
  {
   "cell_type": "code",
   "execution_count": 5,
   "metadata": {},
   "outputs": [
    {
     "data": {
      "text/html": [
       "<div>\n",
       "<style scoped>\n",
       "    .dataframe tbody tr th:only-of-type {\n",
       "        vertical-align: middle;\n",
       "    }\n",
       "\n",
       "    .dataframe tbody tr th {\n",
       "        vertical-align: top;\n",
       "    }\n",
       "\n",
       "    .dataframe thead th {\n",
       "        text-align: right;\n",
       "    }\n",
       "</style>\n",
       "<table border=\"1\" class=\"dataframe\">\n",
       "  <thead>\n",
       "    <tr style=\"text-align: right;\">\n",
       "      <th></th>\n",
       "      <th>PatID</th>\n",
       "      <th>Fraction</th>\n",
       "      <th>Contour</th>\n",
       "      <th>ContourType</th>\n",
       "      <th>Feature</th>\n",
       "      <th>FeatureValue</th>\n",
       "    </tr>\n",
       "  </thead>\n",
       "  <tbody>\n",
       "    <tr>\n",
       "      <th>428</th>\n",
       "      <td>1601</td>\n",
       "      <td>5</td>\n",
       "      <td>RP</td>\n",
       "      <td>Manual</td>\n",
       "      <td>shape_Elongation</td>\n",
       "      <td>0.026751</td>\n",
       "    </tr>\n",
       "    <tr>\n",
       "      <th>429</th>\n",
       "      <td>1601</td>\n",
       "      <td>5</td>\n",
       "      <td>RP</td>\n",
       "      <td>Manual</td>\n",
       "      <td>shape_Flatness</td>\n",
       "      <td>-0.023634</td>\n",
       "    </tr>\n",
       "    <tr>\n",
       "      <th>430</th>\n",
       "      <td>1601</td>\n",
       "      <td>5</td>\n",
       "      <td>RP</td>\n",
       "      <td>Manual</td>\n",
       "      <td>shape_LeastAxisLength</td>\n",
       "      <td>-1.104368</td>\n",
       "    </tr>\n",
       "    <tr>\n",
       "      <th>431</th>\n",
       "      <td>1601</td>\n",
       "      <td>5</td>\n",
       "      <td>RP</td>\n",
       "      <td>Manual</td>\n",
       "      <td>shape_MajorAxisLength</td>\n",
       "      <td>-0.590490</td>\n",
       "    </tr>\n",
       "    <tr>\n",
       "      <th>432</th>\n",
       "      <td>1601</td>\n",
       "      <td>5</td>\n",
       "      <td>RP</td>\n",
       "      <td>Manual</td>\n",
       "      <td>shape_Maximum2DDiameterColumn</td>\n",
       "      <td>-0.907090</td>\n",
       "    </tr>\n",
       "  </tbody>\n",
       "</table>\n",
       "</div>"
      ],
      "text/plain": [
       "     PatID  Fraction Contour ContourType                        Feature  \\\n",
       "428   1601         5      RP      Manual               shape_Elongation   \n",
       "429   1601         5      RP      Manual                 shape_Flatness   \n",
       "430   1601         5      RP      Manual          shape_LeastAxisLength   \n",
       "431   1601         5      RP      Manual          shape_MajorAxisLength   \n",
       "432   1601         5      RP      Manual  shape_Maximum2DDiameterColumn   \n",
       "\n",
       "     FeatureValue  \n",
       "428      0.026751  \n",
       "429     -0.023634  \n",
       "430     -1.104368  \n",
       "431     -0.590490  \n",
       "432     -0.907090  "
      ]
     },
     "execution_count": 5,
     "metadata": {},
     "output_type": "execute_result"
    }
   ],
   "source": [
    "df_man.head()"
   ]
  },
  {
   "cell_type": "code",
   "execution_count": 6,
   "metadata": {},
   "outputs": [
    {
     "data": {
      "text/html": [
       "<div>\n",
       "<style scoped>\n",
       "    .dataframe tbody tr th:only-of-type {\n",
       "        vertical-align: middle;\n",
       "    }\n",
       "\n",
       "    .dataframe tbody tr th {\n",
       "        vertical-align: top;\n",
       "    }\n",
       "\n",
       "    .dataframe thead th {\n",
       "        text-align: right;\n",
       "    }\n",
       "</style>\n",
       "<table border=\"1\" class=\"dataframe\">\n",
       "  <thead>\n",
       "    <tr style=\"text-align: right;\">\n",
       "      <th></th>\n",
       "      <th>PatID</th>\n",
       "      <th>Fraction</th>\n",
       "      <th>Contour</th>\n",
       "      <th>ContourType</th>\n",
       "      <th>Feature</th>\n",
       "      <th>FeatureValue</th>\n",
       "    </tr>\n",
       "  </thead>\n",
       "  <tbody>\n",
       "    <tr>\n",
       "      <th>963</th>\n",
       "      <td>1601</td>\n",
       "      <td>5</td>\n",
       "      <td>Limbus</td>\n",
       "      <td>Auto</td>\n",
       "      <td>shape_Elongation</td>\n",
       "      <td>-0.072880</td>\n",
       "    </tr>\n",
       "    <tr>\n",
       "      <th>964</th>\n",
       "      <td>1601</td>\n",
       "      <td>5</td>\n",
       "      <td>Limbus</td>\n",
       "      <td>Auto</td>\n",
       "      <td>shape_Flatness</td>\n",
       "      <td>-0.016230</td>\n",
       "    </tr>\n",
       "    <tr>\n",
       "      <th>965</th>\n",
       "      <td>1601</td>\n",
       "      <td>5</td>\n",
       "      <td>Limbus</td>\n",
       "      <td>Auto</td>\n",
       "      <td>shape_LeastAxisLength</td>\n",
       "      <td>1.348814</td>\n",
       "    </tr>\n",
       "    <tr>\n",
       "      <th>966</th>\n",
       "      <td>1601</td>\n",
       "      <td>5</td>\n",
       "      <td>Limbus</td>\n",
       "      <td>Auto</td>\n",
       "      <td>shape_MajorAxisLength</td>\n",
       "      <td>2.755153</td>\n",
       "    </tr>\n",
       "    <tr>\n",
       "      <th>967</th>\n",
       "      <td>1601</td>\n",
       "      <td>5</td>\n",
       "      <td>Limbus</td>\n",
       "      <td>Auto</td>\n",
       "      <td>shape_Maximum2DDiameterColumn</td>\n",
       "      <td>1.781248</td>\n",
       "    </tr>\n",
       "  </tbody>\n",
       "</table>\n",
       "</div>"
      ],
      "text/plain": [
       "     PatID  Fraction Contour ContourType                        Feature  \\\n",
       "963   1601         5  Limbus        Auto               shape_Elongation   \n",
       "964   1601         5  Limbus        Auto                 shape_Flatness   \n",
       "965   1601         5  Limbus        Auto          shape_LeastAxisLength   \n",
       "966   1601         5  Limbus        Auto          shape_MajorAxisLength   \n",
       "967   1601         5  Limbus        Auto  shape_Maximum2DDiameterColumn   \n",
       "\n",
       "     FeatureValue  \n",
       "963     -0.072880  \n",
       "964     -0.016230  \n",
       "965      1.348814  \n",
       "966      2.755153  \n",
       "967      1.781248  "
      ]
     },
     "execution_count": 6,
     "metadata": {},
     "output_type": "execute_result"
    }
   ],
   "source": [
    "df_limbus.head()"
   ]
  },
  {
   "cell_type": "code",
   "execution_count": 7,
   "metadata": {},
   "outputs": [
    {
     "name": "stdout",
     "output_type": "stream",
     "text": [
      "Manual\n",
      "------------------------------\n",
      "Volume Correlation\n",
      "Correlating features to volume...\n"
     ]
    },
    {
     "name": "stderr",
     "output_type": "stream",
     "text": [
      "100%|██████████| 105/105 [00:00<00:00, 720.46it/s]\n"
     ]
    },
    {
     "name": "stdout",
     "output_type": "stream",
     "text": [
      "Volume redundant features: 11/105\n",
      "------------------------------\n",
      "Limbus\n",
      "------------------------------\n",
      "Volume Correlation\n",
      "Correlating features to volume...\n"
     ]
    },
    {
     "name": "stderr",
     "output_type": "stream",
     "text": [
      "100%|██████████| 105/105 [00:00<00:00, 581.76it/s]\n"
     ]
    },
    {
     "name": "stdout",
     "output_type": "stream",
     "text": [
      "Volume redundant features: 8/105\n",
      "------------------------------\n"
     ]
    }
   ],
   "source": [
    "print(\"Manual\")\n",
    "FR.Volume(df_man, output_path, plot=False)\n",
    "print(\"Limbus\")\n",
    "FR.Volume(df_limbus, output_path, plot=False)"
   ]
  },
  {
   "attachments": {},
   "cell_type": "markdown",
   "metadata": {},
   "source": [
    "## ICC Stability\n",
    "#### Intra-class correlation coefficient is used as a statistical measure of how much two observed quantities within a group tend to agree with each other. \n",
    "#### Been used widely within radiomics studies as a test-retest stability measure between two delineations.\n",
    "\n"
   ]
  },
  {
   "cell_type": "code",
   "execution_count": 8,
   "metadata": {},
   "outputs": [
    {
     "name": "stdout",
     "output_type": "stream",
     "text": [
      "------------------------------\n",
      "Stability Test\n",
      "Calculating ICC...\n"
     ]
    },
    {
     "name": "stderr",
     "output_type": "stream",
     "text": [
      "100%|██████████| 105/105 [00:03<00:00, 30.05it/s]"
     ]
    },
    {
     "name": "stdout",
     "output_type": "stream",
     "text": [
      "ICC redudant features: 37/105\n",
      "------------------------------\n"
     ]
    },
    {
     "name": "stderr",
     "output_type": "stream",
     "text": [
      "\n"
     ]
    }
   ],
   "source": [
    "FR.ICC(df_all, output_path, plot=False)"
   ]
  },
  {
   "attachments": {},
   "cell_type": "markdown",
   "metadata": {},
   "source": [
    "#### Remove redundant features\n",
    "\n",
    "#### Still need to do further feature reduction"
   ]
  },
  {
   "cell_type": "code",
   "execution_count": 9,
   "metadata": {},
   "outputs": [
    {
     "name": "stdout",
     "output_type": "stream",
     "text": [
      "------------------------------\n",
      "Removing redundant features...\n",
      "Number of features removed: 37\n",
      "Number of features remaining: 68\n",
      "------------------------------\n"
     ]
    }
   ],
   "source": [
    "df_red = FR.RemoveFts(df_man, output_path)"
   ]
  },
  {
   "cell_type": "markdown",
   "metadata": {},
   "source": [
    "## Clustering I - Distance between Feature Trajectories\n",
    "#### Calculate the Euclidean distance between feature pairs.\n",
    "#### Distance values can then be used to visualise the relationship between features.\n",
    "#### Can also be used to group features together."
   ]
  },
  {
   "cell_type": "code",
   "execution_count": 10,
   "metadata": {},
   "outputs": [
    {
     "name": "stdout",
     "output_type": "stream",
     "text": [
      "Calculating Euclidean distance between feature pair trajectories...\n",
      "Rescaling Features...\n"
     ]
    },
    {
     "name": "stderr",
     "output_type": "stream",
     "text": [
      "100%|██████████| 20/20 [00:37<00:00,  1.88s/it]\n"
     ]
    }
   ],
   "source": [
    "from Functions import Clustering as Cl\n",
    "Cl.DistanceMatrix_Delta(df_red, True, output_path, True)"
   ]
  },
  {
   "cell_type": "code",
   "execution_count": null,
   "metadata": {},
   "outputs": [],
   "source": [
    "from Functions import Delta as Dl\n",
    "\n",
    "Dl.CorrMatrix()"
   ]
  },
  {
   "cell_type": "markdown",
   "metadata": {},
   "source": [
    "## Clustering II - Grouping Features\n",
    "#### Hierarchical clustering using SciPy\n",
    "####   - Weighted linkage (Refers to the algorithm by which clusters are formed)\n",
    "####   - Starting T-val = 2 (Refers to the threshold value for which to go to a different cluster, i.e. how far away a value is to a cluster before a new cluster is created/put in another cluster.)\n",
    "##### Clusters with < 3 features discarded as deemed too unstable.\n",
    "##### Clusters with > 10 features re-clustered to subclusters. \n"
   ]
  },
  {
   "cell_type": "code",
   "execution_count": 11,
   "metadata": {},
   "outputs": [
    {
     "name": "stderr",
     "output_type": "stream",
     "text": [
      "/home/arn/Radiomics/Paper1-Release/Functions/Clustering.py:228: SettingWithCopyWarning: \n",
      "A value is trying to be set on a copy of a slice from a DataFrame.\n",
      "Try using .loc[row_indexer,col_indexer] = value instead\n",
      "\n",
      "See the caveats in the documentation: https://pandas.pydata.org/pandas-docs/stable/user_guide/indexing.html#returning-a-view-versus-a-copy\n",
      "  df[\"ClusterLabel\"] = \"\"\n",
      "/home/arn/Radiomics/Paper1-Release/Functions/Clustering.py:229: SettingWithCopyWarning: \n",
      "A value is trying to be set on a copy of a slice from a DataFrame.\n",
      "Try using .loc[row_indexer,col_indexer] = value instead\n",
      "\n",
      "See the caveats in the documentation: https://pandas.pydata.org/pandas-docs/stable/user_guide/indexing.html#returning-a-view-versus-a-copy\n",
      "  df[\"ClusterNumFts\"] = \"\"\n"
     ]
    },
    {
     "name": "stdout",
     "output_type": "stream",
     "text": [
      "------------------------------\n",
      "Clustering Feature Trajectories...\n"
     ]
    },
    {
     "name": "stderr",
     "output_type": "stream",
     "text": [
      "100%|██████████| 20/20 [00:01<00:00, 15.11it/s]"
     ]
    },
    {
     "name": "stdout",
     "output_type": "stream",
     "text": [
      "------------------------------\n"
     ]
    },
    {
     "name": "stderr",
     "output_type": "stream",
     "text": [
      "\n"
     ]
    }
   ],
   "source": [
    "Cl.ClusterFeatures(df_red, output_path, 2)"
   ]
  },
  {
   "cell_type": "markdown",
   "metadata": {},
   "source": [
    "## Clustering III - Feature Selection\n",
    "#### Cross-correlation value between feature trajectories within each cluster performed to determine most “representative” feature\n",
    "####    - Highest mean cross-correlation passed through.\n",
    "####    - Top 20% of features.\n",
    "#### Each patient passes through a set of features.\n",
    "#### Features then tallied up and the top 10 ranked features are selected.\n"
   ]
  },
  {
   "cell_type": "code",
   "execution_count": 12,
   "metadata": {},
   "outputs": [
    {
     "name": "stdout",
     "output_type": "stream",
     "text": [
      "------------------------------\n",
      "Feature Selection\n",
      "Calculating Cross-Correlation values...\n"
     ]
    },
    {
     "name": "stderr",
     "output_type": "stream",
     "text": [
      "100%|██████████| 20/20 [00:00<00:00, 29.88it/s]\n"
     ]
    },
    {
     "name": "stdout",
     "output_type": "stream",
     "text": [
      "------------------------------\n",
      "Selected Features: \n",
      "glrlm_LongRunHighGrayLevelEmphasis\n",
      "glcm_ClusterTendency\n",
      "gldm_HighGrayLevelEmphasis\n",
      "glcm_JointEntropy\n",
      "glrlm_ShortRunHighGrayLevelEmphasis\n",
      "glrlm_GrayLevelVariance\n",
      "glcm_Autocorrelation\n",
      "glrlm_LongRunEmphasis\n",
      "glcm_Contrast\n",
      "firstorder_10Percentile\n",
      "glrlm_RunPercentage\n",
      "firstorder_Mean\n",
      "glcm_SumAverage\n",
      "firstorder_RobustMeanAbsoluteDeviation\n",
      "glszm_ZoneEntropy\n",
      "glrlm_LongRunLowGrayLevelEmphasis\n",
      "gldm_SmallDependenceHighGrayLevelEmphasis\n",
      "------------------------------\n",
      "Number of Selected Features: 17\n",
      "------------------------------\n"
     ]
    }
   ],
   "source": [
    "Cl.FeatureSelection_Delta(df_red, output_path)"
   ]
  },
  {
   "cell_type": "code",
   "execution_count": 14,
   "metadata": {},
   "outputs": [
    {
     "name": "stdout",
     "output_type": "stream",
     "text": [
      "['gldm_SmallDependenceEmphasis', 'glcm_JointEnergy', 'glcm_Imc2', 'glrlm_RunEntropy', 'firstorder_Uniformity', 'gldm_DependenceEntropy', 'glrlm_LowGrayLevelRunEmphasis', 'gldm_LargeDependenceLowGrayLevelEmphasis', 'glcm_Idmn', 'firstorder_MeanAbsoluteDeviation', 'glcm_JointAverage', 'glrlm_ShortRunEmphasis']\n",
      "12\n"
     ]
    }
   ],
   "source": [
    "long = pd.read_csv(output_path.replace(\"-Delta\", \"\") + \"Features/Features_Selected.csv\")\n",
    "delta = pd.read_csv(output_path + \"Features/Features_Selected.csv\")\n",
    "\n",
    "long_fts = long[\"Feature\"].unique()\n",
    "delta_fts = delta[\"Feature\"].unique()\n",
    "\n",
    "sim_fts = [x for x in long_fts if x not in delta_fts]\n",
    "print(sim_fts)\n",
    "print(len(sim_fts))"
   ]
  }
 ],
 "metadata": {
  "interpreter": {
   "hash": "fd78d60c78312e2835784dd761e640488478adfd13dfcaae9b4668852672f22d"
  },
  "kernelspec": {
   "display_name": "Python 3.6.5 64-bit ('py-envs': virtualenv)",
   "name": "python3"
  },
  "language_info": {
   "codemirror_mode": {
    "name": "ipython",
    "version": 3
   },
   "file_extension": ".py",
   "mimetype": "text/x-python",
   "name": "python",
   "nbconvert_exporter": "python",
   "pygments_lexer": "ipython3",
   "version": "3.7.0"
  },
  "orig_nbformat": 4
 },
 "nbformat": 4,
 "nbformat_minor": 2
}
