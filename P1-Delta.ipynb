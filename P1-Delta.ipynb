{
 "cells": [
  {
   "attachments": {},
   "cell_type": "markdown",
   "metadata": {},
   "source": [
    "# MR-Longitudinal Radiomics\n",
    "### Radiomics pipeline created for longitudinal images collected at subsequent fractions of treatment.\n",
    "##### Full model: Feature Extraction, Feature Reduction via volume correlation & test-retest stability, Feature Selection via Euclidean distance between feature pair trajectories and hierachical clustering.\n",
    "##### Compares the results of the longitudinal model with a standard delta-radiomics approach to illustrate the importance of accounting for the full feature trajectory over treatment.\n",
    "\n",
    "###\n",
    "#### Below specify certain variables and options for customising the notebook"
   ]
  },
  {
   "cell_type": "code",
   "execution_count": 1,
   "metadata": {},
   "outputs": [],
   "source": [
    "import os\n",
    "import pandas as pd\n",
    "from tqdm import tqdm\n",
    "\n",
    "# Specify the output path\n",
    "# specify the tag to use - could be anything, helps to identify the output if running multiple models\n",
    "# default is \"Test\"\n",
    "tag = \"Delta-Test\"\n",
    "# output_path = \"C:/Users/b01297ar/Documents/ProstateMRL-local/ProstateMRL-Radiomics/ReleaseCode/Output/\" + tag + \"/\"\n",
    "cwd = os.getcwd()\n",
    "output_path = cwd + \"/Output/\" \n",
    "if os.path.exists(output_path) == False:\n",
    "        os.mkdir(output_path)\n",
    "if os.path.exists(output_path + tag) == False:\n",
    "    os.mkdir(output_path + tag)\n",
    "    os.mkdir(output_path + tag + \"/Features/\")\n",
    "    os.mkdir(output_path + tag + \"/Extraction/\")\n",
    "    os.mkdir(output_path + tag + \"/Plots/\")\n",
    "output_path = cwd + \"/Output/\" + tag + \"/\"\n",
    "\n",
    "# specify if you want to compare to a delta model\n",
    "# default is False\n",
    "Delta_Model = False\n",
    "\n",
    "# Specify if you want to visualise the results in plots\n",
    "# default is False, can specify at given stages below if you want to visualise\n",
    "plot = False\n",
    "\n",
    "# Specify if you want to extract Features\n",
    "# default is False, option to do so is below\n",
    "# If features are already extracted, set to false and provide the path to the extracted features below\n",
    "extract = False\n"
   ]
  },
  {
   "attachments": {},
   "cell_type": "markdown",
   "metadata": {},
   "source": [
    "## Feature Extraction\n",
    "#### If you want to extract features, provide a csv containing the following:\n",
    "####               | PatID | Fraction | Image file | Mask Name | Mask file | \n",
    "#### Specify the root of the csv in the Input dir.\n",
    "#### Calculates features based on the parameter file specified. Default setting is currently set at PyRadiomics base extraction parameters - Fixed bin size (FBS) of 25, no resampling, no normalisation, 107 features (IBSI compliant) and no wavelet/laplacian filters applied. \n",
    "#### Features are then calculated and then saved in a new folder in the Output dir - with files in parquet format. Columns will be:\n",
    "#### PatID | Fraction | Mask | Feature | Feature Value |"
   ]
  },
  {
   "cell_type": "code",
   "execution_count": 2,
   "metadata": {},
   "outputs": [],
   "source": [
    "from Functions import Extraction as FE\n",
    "\n",
    "if extract == True:\n",
    "    \n",
    "    key_extraction = cwd + \"/Input/Default/PepKey_Man.csv\"\n",
    "    key_extraction = pd.read_csv(key_extraction)\n",
    "\n",
    "    extraction_path = output_path + \"/Extraction/\"\n",
    "    if not os.path.exists(extraction_path):\n",
    "        os.makedirs(extraction_path)\n",
    "\n",
    "    params_extractor = cwd + \"/Input/Default/Default_ExtractionParams.yaml\"\n",
    "\n",
    "\n",
    "    # Loop over all patients\n",
    "    print(\"Extracting features for patients...\")\n",
    "    for pat in key_extraction[\"PatID\"].unique():\n",
    "        print(\"Processing patient: \" + str(pat) + \"...\")\n",
    "\n",
    "        # Get the patient's key\n",
    "        key_pat = key_extraction[key_extraction[\"PatID\"] == pat]\n",
    "        Features_pat = pd.DataFrame()\n",
    "        # loop over all rows\n",
    "        if os.path.exists(output_path + \"/Extraction/Manual_\" + str(pat) + \"_\" + tag + \".csv\"):\n",
    "            print(\" \")\n",
    "\n",
    "        else:\n",
    "            for i, row in key_pat.iterrows():\n",
    "\n",
    "\n",
    "                PatID = row[\"PatID\"]\n",
    "                Fraction = row[\"Fraction\"]\n",
    "                Mask = row[\"Contour\"]\n",
    "                ContourType = row[\"ContourType\"]\n",
    "                ImagePath = row[\"ImagePath\"]\n",
    "                MaskPath = row[\"MaskPath\"]\n",
    "                \n",
    "                # Extract features\n",
    "                Features = FE.ExtractFeatures(PatID, Fraction, Mask, ContourType, ImagePath, MaskPath, params_extractor)\n",
    "\n",
    "                Features_pat = Features_pat.append(Features)\n",
    "            \n",
    "                \n",
    "            Features_pat.to_csv(output_path + \"/Extraction/\" + ContourType + \"_\" + str(pat) + \"_\" + tag + \".csv\", index=False)\n"
   ]
  },
  {
   "attachments": {},
   "cell_type": "markdown",
   "metadata": {},
   "source": [
    "#### Once all features have been extracted, combine in to one dataframe\n",
    "#### Or\n",
    "#### Specify the path of the feature values. \n",
    "##### Default is to read in a parquet file (smaller file sizes - so quicker), make sure to change to pd.read_csv if reading in csv and change path."
   ]
  },
  {
   "cell_type": "code",
   "execution_count": 6,
   "metadata": {},
   "outputs": [],
   "source": [
    "if extract == True:\n",
    "    df_all = pd.DataFrame()\n",
    "    files = os.listdir(output_path + \"/Extraction/\")\n",
    "    for file in files:\n",
    "        df_pat = pd.read_csv(output_path + \"/Extraction/\" + file)\n",
    "        df_all = df_all.append(df_pat)\n",
    "        \n",
    "\n",
    "        # Save the features to parquet\n",
    "    if os.path.exists(output_path + \"/Features/\") == False:\n",
    "        os.mkdir(output_path + \"/Features/\")   \n",
    "    df_all.to_csv(output_path + \"/Features/Features_\" + tag + \".csv\")\n",
    "\n",
    "else:\n",
    "    # df_all = pd.read_csv(output_path + \"/Features/Features_\" + tag + \".csv\")\n",
    "    df_all = pd.read_csv(\"C:/Users/b01297ar/Documents/ProstateMRL-local/ProstateMRL-Radiomics/P1-TempData/Features_Delta.csv\")\n",
    "    df_all.to_csv(output_path + \"/Features/Features_\" + tag + \".csv\")"
   ]
  },
  {
   "cell_type": "code",
   "execution_count": 7,
   "metadata": {},
   "outputs": [
    {
     "data": {
      "text/html": [
       "<div>\n",
       "<style scoped>\n",
       "    .dataframe tbody tr th:only-of-type {\n",
       "        vertical-align: middle;\n",
       "    }\n",
       "\n",
       "    .dataframe tbody tr th {\n",
       "        vertical-align: top;\n",
       "    }\n",
       "\n",
       "    .dataframe thead th {\n",
       "        text-align: right;\n",
       "    }\n",
       "</style>\n",
       "<table border=\"1\" class=\"dataframe\">\n",
       "  <thead>\n",
       "    <tr style=\"text-align: right;\">\n",
       "      <th></th>\n",
       "      <th>Unnamed: 0.1</th>\n",
       "      <th>PatID</th>\n",
       "      <th>Fraction</th>\n",
       "      <th>Contour</th>\n",
       "      <th>ContourType</th>\n",
       "      <th>Feature</th>\n",
       "      <th>FeatureValue</th>\n",
       "    </tr>\n",
       "  </thead>\n",
       "  <tbody>\n",
       "    <tr>\n",
       "      <th>0</th>\n",
       "      <td>428</td>\n",
       "      <td>1642</td>\n",
       "      <td>5</td>\n",
       "      <td>RP</td>\n",
       "      <td>Manual</td>\n",
       "      <td>shape_Elongation</td>\n",
       "      <td>0.126749</td>\n",
       "    </tr>\n",
       "    <tr>\n",
       "      <th>1</th>\n",
       "      <td>429</td>\n",
       "      <td>1642</td>\n",
       "      <td>5</td>\n",
       "      <td>RP</td>\n",
       "      <td>Manual</td>\n",
       "      <td>shape_Flatness</td>\n",
       "      <td>0.137260</td>\n",
       "    </tr>\n",
       "    <tr>\n",
       "      <th>2</th>\n",
       "      <td>430</td>\n",
       "      <td>1642</td>\n",
       "      <td>5</td>\n",
       "      <td>RP</td>\n",
       "      <td>Manual</td>\n",
       "      <td>shape_LeastAxisLength</td>\n",
       "      <td>3.711218</td>\n",
       "    </tr>\n",
       "    <tr>\n",
       "      <th>3</th>\n",
       "      <td>431</td>\n",
       "      <td>1642</td>\n",
       "      <td>5</td>\n",
       "      <td>RP</td>\n",
       "      <td>Manual</td>\n",
       "      <td>shape_MajorAxisLength</td>\n",
       "      <td>-1.267336</td>\n",
       "    </tr>\n",
       "    <tr>\n",
       "      <th>4</th>\n",
       "      <td>432</td>\n",
       "      <td>1642</td>\n",
       "      <td>5</td>\n",
       "      <td>RP</td>\n",
       "      <td>Manual</td>\n",
       "      <td>shape_Maximum2DDiameterColumn</td>\n",
       "      <td>-1.249932</td>\n",
       "    </tr>\n",
       "  </tbody>\n",
       "</table>\n",
       "</div>"
      ],
      "text/plain": [
       "   Unnamed: 0.1  PatID  Fraction Contour ContourType  \\\n",
       "0           428   1642         5      RP      Manual   \n",
       "1           429   1642         5      RP      Manual   \n",
       "2           430   1642         5      RP      Manual   \n",
       "3           431   1642         5      RP      Manual   \n",
       "4           432   1642         5      RP      Manual   \n",
       "\n",
       "                         Feature  FeatureValue  \n",
       "0               shape_Elongation      0.126749  \n",
       "1                 shape_Flatness      0.137260  \n",
       "2          shape_LeastAxisLength      3.711218  \n",
       "3          shape_MajorAxisLength     -1.267336  \n",
       "4  shape_Maximum2DDiameterColumn     -1.249932  "
      ]
     },
     "execution_count": 7,
     "metadata": {},
     "output_type": "execute_result"
    }
   ],
   "source": [
    "# df_all = pd.read_csv(\"C:/Users/b01297ar/Documents/ProstateMRL-local/ProstateMRL-Radiomics/P1-TempData/Features_All.csv\")\n",
    "df_all = df_all.drop(columns=[\"Unnamed: 0\"])\n",
    "df_all = df_all[~df_all[\"Feature\"].isin([\"firstorder_Minimum\", \"firstorder_Maximum\"])]\n",
    "df_all.head()"
   ]
  },
  {
   "cell_type": "code",
   "execution_count": 8,
   "metadata": {},
   "outputs": [],
   "source": [
    "df_man = df_all.loc[df_all[\"ContourType\"] == \"Manual\"]\n",
    "df_limbus = df_all.loc[df_all[\"ContourType\"] == \"Auto\"]"
   ]
  },
  {
   "attachments": {},
   "cell_type": "markdown",
   "metadata": {},
   "source": [
    "# Feature Reduction\n",
    "#### Due to the high dimensionnality of radiomics values, it is vital that some of the features are removed if they offer no unique information. \n",
    "#### Since features are calculated by applying different formulas to images, many of these formulas are similar and so some features can be quite similar. We aim to remove all redundant features - redundant features in this model are those that are strongly correlated to volume, Spearman Rank coefficient rho > 0.6 and unstable due to contour differences, as measured by an ICC value < 0.5."
   ]
  },
  {
   "cell_type": "code",
   "execution_count": 9,
   "metadata": {},
   "outputs": [],
   "source": [
    "from Functions import Reduction as FR"
   ]
  },
  {
   "attachments": {},
   "cell_type": "markdown",
   "metadata": {},
   "source": [
    "## Volume Correlation\n",
    "#### Previous studies have shown that radiomic feature values have a strong correlation with the volume of the mask\n",
    "\n"
   ]
  },
  {
   "cell_type": "code",
   "execution_count": 10,
   "metadata": {},
   "outputs": [
    {
     "data": {
      "text/html": [
       "<div>\n",
       "<style scoped>\n",
       "    .dataframe tbody tr th:only-of-type {\n",
       "        vertical-align: middle;\n",
       "    }\n",
       "\n",
       "    .dataframe tbody tr th {\n",
       "        vertical-align: top;\n",
       "    }\n",
       "\n",
       "    .dataframe thead th {\n",
       "        text-align: right;\n",
       "    }\n",
       "</style>\n",
       "<table border=\"1\" class=\"dataframe\">\n",
       "  <thead>\n",
       "    <tr style=\"text-align: right;\">\n",
       "      <th></th>\n",
       "      <th>Unnamed: 0.1</th>\n",
       "      <th>PatID</th>\n",
       "      <th>Fraction</th>\n",
       "      <th>Contour</th>\n",
       "      <th>ContourType</th>\n",
       "      <th>Feature</th>\n",
       "      <th>FeatureValue</th>\n",
       "    </tr>\n",
       "  </thead>\n",
       "  <tbody>\n",
       "    <tr>\n",
       "      <th>0</th>\n",
       "      <td>428</td>\n",
       "      <td>1642</td>\n",
       "      <td>5</td>\n",
       "      <td>RP</td>\n",
       "      <td>Manual</td>\n",
       "      <td>shape_Elongation</td>\n",
       "      <td>0.126749</td>\n",
       "    </tr>\n",
       "    <tr>\n",
       "      <th>1</th>\n",
       "      <td>429</td>\n",
       "      <td>1642</td>\n",
       "      <td>5</td>\n",
       "      <td>RP</td>\n",
       "      <td>Manual</td>\n",
       "      <td>shape_Flatness</td>\n",
       "      <td>0.137260</td>\n",
       "    </tr>\n",
       "    <tr>\n",
       "      <th>2</th>\n",
       "      <td>430</td>\n",
       "      <td>1642</td>\n",
       "      <td>5</td>\n",
       "      <td>RP</td>\n",
       "      <td>Manual</td>\n",
       "      <td>shape_LeastAxisLength</td>\n",
       "      <td>3.711218</td>\n",
       "    </tr>\n",
       "    <tr>\n",
       "      <th>3</th>\n",
       "      <td>431</td>\n",
       "      <td>1642</td>\n",
       "      <td>5</td>\n",
       "      <td>RP</td>\n",
       "      <td>Manual</td>\n",
       "      <td>shape_MajorAxisLength</td>\n",
       "      <td>-1.267336</td>\n",
       "    </tr>\n",
       "    <tr>\n",
       "      <th>4</th>\n",
       "      <td>432</td>\n",
       "      <td>1642</td>\n",
       "      <td>5</td>\n",
       "      <td>RP</td>\n",
       "      <td>Manual</td>\n",
       "      <td>shape_Maximum2DDiameterColumn</td>\n",
       "      <td>-1.249932</td>\n",
       "    </tr>\n",
       "  </tbody>\n",
       "</table>\n",
       "</div>"
      ],
      "text/plain": [
       "   Unnamed: 0.1  PatID  Fraction Contour ContourType  \\\n",
       "0           428   1642         5      RP      Manual   \n",
       "1           429   1642         5      RP      Manual   \n",
       "2           430   1642         5      RP      Manual   \n",
       "3           431   1642         5      RP      Manual   \n",
       "4           432   1642         5      RP      Manual   \n",
       "\n",
       "                         Feature  FeatureValue  \n",
       "0               shape_Elongation      0.126749  \n",
       "1                 shape_Flatness      0.137260  \n",
       "2          shape_LeastAxisLength      3.711218  \n",
       "3          shape_MajorAxisLength     -1.267336  \n",
       "4  shape_Maximum2DDiameterColumn     -1.249932  "
      ]
     },
     "execution_count": 10,
     "metadata": {},
     "output_type": "execute_result"
    }
   ],
   "source": [
    "df_man.head()"
   ]
  },
  {
   "cell_type": "code",
   "execution_count": 11,
   "metadata": {},
   "outputs": [
    {
     "data": {
      "text/html": [
       "<div>\n",
       "<style scoped>\n",
       "    .dataframe tbody tr th:only-of-type {\n",
       "        vertical-align: middle;\n",
       "    }\n",
       "\n",
       "    .dataframe tbody tr th {\n",
       "        vertical-align: top;\n",
       "    }\n",
       "\n",
       "    .dataframe thead th {\n",
       "        text-align: right;\n",
       "    }\n",
       "</style>\n",
       "<table border=\"1\" class=\"dataframe\">\n",
       "  <thead>\n",
       "    <tr style=\"text-align: right;\">\n",
       "      <th></th>\n",
       "      <th>Unnamed: 0.1</th>\n",
       "      <th>PatID</th>\n",
       "      <th>Fraction</th>\n",
       "      <th>Contour</th>\n",
       "      <th>ContourType</th>\n",
       "      <th>Feature</th>\n",
       "      <th>FeatureValue</th>\n",
       "    </tr>\n",
       "  </thead>\n",
       "  <tbody>\n",
       "    <tr>\n",
       "      <th>107</th>\n",
       "      <td>428</td>\n",
       "      <td>1642</td>\n",
       "      <td>5</td>\n",
       "      <td>Limbus</td>\n",
       "      <td>Auto</td>\n",
       "      <td>shape_Elongation</td>\n",
       "      <td>0.031748</td>\n",
       "    </tr>\n",
       "    <tr>\n",
       "      <th>108</th>\n",
       "      <td>429</td>\n",
       "      <td>1642</td>\n",
       "      <td>5</td>\n",
       "      <td>Limbus</td>\n",
       "      <td>Auto</td>\n",
       "      <td>shape_Flatness</td>\n",
       "      <td>0.012812</td>\n",
       "    </tr>\n",
       "    <tr>\n",
       "      <th>109</th>\n",
       "      <td>430</td>\n",
       "      <td>1642</td>\n",
       "      <td>5</td>\n",
       "      <td>Limbus</td>\n",
       "      <td>Auto</td>\n",
       "      <td>shape_LeastAxisLength</td>\n",
       "      <td>0.431009</td>\n",
       "    </tr>\n",
       "    <tr>\n",
       "      <th>110</th>\n",
       "      <td>431</td>\n",
       "      <td>1642</td>\n",
       "      <td>5</td>\n",
       "      <td>Limbus</td>\n",
       "      <td>Auto</td>\n",
       "      <td>shape_MajorAxisLength</td>\n",
       "      <td>0.065055</td>\n",
       "    </tr>\n",
       "    <tr>\n",
       "      <th>111</th>\n",
       "      <td>432</td>\n",
       "      <td>1642</td>\n",
       "      <td>5</td>\n",
       "      <td>Limbus</td>\n",
       "      <td>Auto</td>\n",
       "      <td>shape_Maximum2DDiameterColumn</td>\n",
       "      <td>2.949525</td>\n",
       "    </tr>\n",
       "  </tbody>\n",
       "</table>\n",
       "</div>"
      ],
      "text/plain": [
       "     Unnamed: 0.1  PatID  Fraction Contour ContourType  \\\n",
       "107           428   1642         5  Limbus        Auto   \n",
       "108           429   1642         5  Limbus        Auto   \n",
       "109           430   1642         5  Limbus        Auto   \n",
       "110           431   1642         5  Limbus        Auto   \n",
       "111           432   1642         5  Limbus        Auto   \n",
       "\n",
       "                           Feature  FeatureValue  \n",
       "107               shape_Elongation      0.031748  \n",
       "108                 shape_Flatness      0.012812  \n",
       "109          shape_LeastAxisLength      0.431009  \n",
       "110          shape_MajorAxisLength      0.065055  \n",
       "111  shape_Maximum2DDiameterColumn      2.949525  "
      ]
     },
     "execution_count": 11,
     "metadata": {},
     "output_type": "execute_result"
    }
   ],
   "source": [
    "df_limbus.head()"
   ]
  },
  {
   "cell_type": "code",
   "execution_count": 12,
   "metadata": {},
   "outputs": [
    {
     "name": "stdout",
     "output_type": "stream",
     "text": [
      "Manual\n",
      "------------------------------\n",
      "Volume Correlation\n",
      "Correlating features to volume...\n"
     ]
    },
    {
     "name": "stderr",
     "output_type": "stream",
     "text": [
      "100%|██████████| 105/105 [00:00<00:00, 494.20it/s]\n"
     ]
    },
    {
     "name": "stdout",
     "output_type": "stream",
     "text": [
      "Volume redundant features: 12/105\n",
      "------------------------------\n",
      "Limbus\n",
      "------------------------------\n",
      "Volume Correlation\n",
      "Correlating features to volume...\n"
     ]
    },
    {
     "name": "stderr",
     "output_type": "stream",
     "text": [
      "100%|██████████| 105/105 [00:00<00:00, 590.17it/s]"
     ]
    },
    {
     "name": "stdout",
     "output_type": "stream",
     "text": [
      "Volume redundant features: 8/105\n",
      "------------------------------\n"
     ]
    },
    {
     "name": "stderr",
     "output_type": "stream",
     "text": [
      "\n"
     ]
    }
   ],
   "source": [
    "print(\"Manual\")\n",
    "FR.Volume(df_man, output_path, plot=False)\n",
    "print(\"Limbus\")\n",
    "FR.Volume(df_limbus, output_path, plot=False)"
   ]
  },
  {
   "attachments": {},
   "cell_type": "markdown",
   "metadata": {},
   "source": [
    "## ICC Stability\n",
    "#### Intra-class correlation coefficient is used as a statistical measure of how much two observed quantities within a group tend to agree with each other. \n",
    "#### Been used widely within radiomics studies as a test-retest stability measure between two delineations.\n",
    "\n"
   ]
  },
  {
   "cell_type": "code",
   "execution_count": 13,
   "metadata": {},
   "outputs": [
    {
     "name": "stdout",
     "output_type": "stream",
     "text": [
      "------------------------------\n",
      "Stability Test\n",
      "Calculating ICC...\n"
     ]
    },
    {
     "name": "stderr",
     "output_type": "stream",
     "text": [
      "100%|██████████| 105/105 [00:04<00:00, 25.75it/s]\n"
     ]
    },
    {
     "name": "stdout",
     "output_type": "stream",
     "text": [
      "ICC redudant features: 42/105\n",
      "------------------------------\n"
     ]
    }
   ],
   "source": [
    "FR.ICC(df_all, output_path, plot=False)\n"
   ]
  },
  {
   "attachments": {},
   "cell_type": "markdown",
   "metadata": {},
   "source": [
    "#### Remove redundant features\n",
    "\n",
    "#### Still need to do further feature reduction"
   ]
  },
  {
   "cell_type": "code",
   "execution_count": 14,
   "metadata": {},
   "outputs": [
    {
     "name": "stdout",
     "output_type": "stream",
     "text": [
      "------------------------------\n",
      "Removing redundant features...\n",
      "Number of features removed: 42\n",
      "Number of features remaining: 63\n",
      "------------------------------\n"
     ]
    }
   ],
   "source": [
    "df_all = FR.RemoveFts(df_all, output_path)"
   ]
  },
  {
   "cell_type": "markdown",
   "metadata": {},
   "source": [
    "## Clustering I - Distance between Feature Trajectories\n",
    "#### Calculate the Euclidean distance between feature pairs.\n",
    "#### Distance values can then be used to visualise the relationship between features.\n",
    "#### Can also be used to group features together."
   ]
  },
  {
   "cell_type": "code",
   "execution_count": 19,
   "metadata": {},
   "outputs": [
    {
     "name": "stdout",
     "output_type": "stream",
     "text": [
      "Calculating Euclidean distance between feature pair trajectories...\n"
     ]
    },
    {
     "name": "stderr",
     "output_type": "stream",
     "text": [
      "100%|██████████| 20/20 [01:26<00:00,  4.32s/it]\n"
     ]
    }
   ],
   "source": [
    "from Functions import Clustering as Cl\n",
    "Cl.DistanceMatrix_Delta(df_man, output_path, True)"
   ]
  },
  {
   "cell_type": "markdown",
   "metadata": {},
   "source": [
    "## Clustering II - Grouping Features\n",
    "#### Hierarchical clustering using SciPy\n",
    "####   - Weighted linkage (Refers to the algorithm by which clusters are formed)\n",
    "####   - Starting T-val = 2 (Refers to the threshold value for which to go to a different cluster, i.e. how far away a value is to a cluster before a new cluster is created/put in another cluster.)\n",
    "##### Clusters with < 3 features discarded as deemed too unstable.\n",
    "##### Clusters with > 10 features re-clustered to subclusters. \n"
   ]
  },
  {
   "cell_type": "code",
   "execution_count": 20,
   "metadata": {},
   "outputs": [
    {
     "name": "stdout",
     "output_type": "stream",
     "text": [
      "------------------------------\n",
      "Clustering Feature Trajectories...\n"
     ]
    },
    {
     "name": "stderr",
     "output_type": "stream",
     "text": [
      "100%|██████████| 20/20 [00:01<00:00, 15.28it/s]"
     ]
    },
    {
     "name": "stdout",
     "output_type": "stream",
     "text": [
      "------------------------------\n"
     ]
    },
    {
     "name": "stderr",
     "output_type": "stream",
     "text": [
      "\n"
     ]
    }
   ],
   "source": [
    "Cl.ClusterFeatures(df_man, output_path, 2)"
   ]
  },
  {
   "cell_type": "markdown",
   "metadata": {},
   "source": [
    "## Clustering III - Feature Selection\n",
    "#### Cross-correlation value between feature trajectories within each cluster performed to determine most “representative” feature\n",
    "####    - Highest mean cross-correlation passed through.\n",
    "####    - Top 20% of features.\n",
    "#### Each patient passes through a set of features.\n",
    "#### Features then tallied up and the top 10 ranked features are selected.\n"
   ]
  },
  {
   "cell_type": "code",
   "execution_count": 21,
   "metadata": {},
   "outputs": [
    {
     "name": "stdout",
     "output_type": "stream",
     "text": [
      "------------------------------\n",
      "Feature Selection\n",
      "Calculating Cross-Correlation values...\n"
     ]
    },
    {
     "name": "stderr",
     "output_type": "stream",
     "text": [
      "100%|██████████| 20/20 [00:01<00:00, 13.64it/s]"
     ]
    },
    {
     "name": "stdout",
     "output_type": "stream",
     "text": [
      "------------------------------\n",
      "Selected Features: \n",
      "glcm_MaximumProbability\n",
      "glcm_SumEntropy\n",
      "glcm_JointEntropy\n",
      "glrlm_RunLengthNonUniformityNormalized\n",
      "gldm_HighGrayLevelEmphasis\n",
      "shape_Maximum3DDiameter\n",
      "glcm_JointAverage\n",
      "firstorder_Skewness\n",
      "glcm_DifferenceEntropy\n",
      "gldm_DependenceEntropy\n",
      "shape_Elongation\n",
      "shape_Flatness\n",
      "glcm_SumAverage\n",
      "glszm_LowGrayLevelZoneEmphasis\n",
      "glrlm_LongRunLowGrayLevelEmphasis\n",
      "shape_Maximum2DDiameterRow\n",
      "glrlm_RunPercentage\n",
      "glcm_MCC\n",
      "glcm_DifferenceVariance\n",
      "------------------------------\n",
      "Number of Selected Features: 19\n",
      "------------------------------\n"
     ]
    },
    {
     "name": "stderr",
     "output_type": "stream",
     "text": [
      "\n"
     ]
    }
   ],
   "source": [
    "Cl.FeatureSelection_Delta(df_man, output_path)"
   ]
  }
 ],
 "metadata": {
  "interpreter": {
   "hash": "fd78d60c78312e2835784dd761e640488478adfd13dfcaae9b4668852672f22d"
  },
  "kernelspec": {
   "display_name": "Python 3.6.5 64-bit ('py-envs': virtualenv)",
   "name": "python3"
  },
  "language_info": {
   "codemirror_mode": {
    "name": "ipython",
    "version": 3
   },
   "file_extension": ".py",
   "mimetype": "text/x-python",
   "name": "python",
   "nbconvert_exporter": "python",
   "pygments_lexer": "ipython3",
   "version": "3.7.0"
  },
  "orig_nbformat": 4
 },
 "nbformat": 4,
 "nbformat_minor": 2
}
