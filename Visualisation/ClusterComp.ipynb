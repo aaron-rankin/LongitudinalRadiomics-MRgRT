{
 "cells": [
  {
   "cell_type": "code",
   "execution_count": 1,
   "metadata": {},
   "outputs": [],
   "source": [
    "import pandas as pd\n",
    "import numpy as np\n",
    "import os"
   ]
  },
  {
   "cell_type": "code",
   "execution_count": 6,
   "metadata": {},
   "outputs": [],
   "source": [
    "# determine the mean number of clusters per patient and the mean number of clusters per patient \n",
    "# and mean number of features per cluster\n",
    "\n",
    "root = '../Output/HM-FS/Clustering/Labels/'\n",
    "\n",
    "csvs = os.listdir(root)\n",
    "df_all = pd.DataFrame()\n",
    "\n",
    "num_clusters = []\n",
    "num_features = []\n",
    "\n",
    "for csv in csvs:\n",
    "    df = pd.read_csv(root + csv)\n",
    "    # rename last column to 'Cluster Label'\n",
    "    df.rename(columns={df.columns[-1]: 'NumFts'}, inplace=True)\n",
    "    df.rename(columns={df.columns[-2]: 'Cluster'}, inplace=True)\n",
    "    patID = csv.split('.')[0]\n",
    "\n",
    "    clusters = df['Cluster'].unique()\n",
    "    new_clusters = np.arange(len(clusters))\n",
    "    df['PatID'] = patID\n",
    "    df['Cluster'] = df['Cluster'].replace(clusters, new_clusters)\n",
    "    df = df[['PatID', 'Cluster', 'NumFts']]\n",
    "    # drop duplicates\n",
    "    df = df.drop_duplicates()\n",
    "    # add to df_all\n",
    "\n",
    "    df_all = df_all.append(df)\n",
    "    num_clusters.append(len(clusters))\n",
    "\n",
    "    num_fts_vals = df['NumFts'].values\n",
    "\n",
    "    for num in num_fts_vals:\n",
    "        num_features.append(num)    \n",
    "\n",
    "\n"
   ]
  },
  {
   "cell_type": "code",
   "execution_count": 7,
   "metadata": {},
   "outputs": [
    {
     "name": "stdout",
     "output_type": "stream",
     "text": [
      "Mean number of clusters per patient: 21.5\n",
      "Median number of clusters per patient: 20.5\n",
      "Mean number of features per cluster: 3.3488372093023258\n"
     ]
    }
   ],
   "source": [
    "# get mean number of clusters per patient\n",
    "mean_num_clusters = np.mean(num_clusters)\n",
    "print('Mean number of clusters per patient: ' + str(mean_num_clusters))\n",
    "# median number of clusters per patient\n",
    "median_num_clusters = np.median(num_clusters)\n",
    "print('Median number of clusters per patient: ' + str(median_num_clusters))\n",
    "\n",
    "# get mean number of features per cluster\n",
    "mean_num_features = np.mean(num_features) \n",
    "print('Mean number of features per cluster: ' + str(mean_num_features))\n"
   ]
  }
 ],
 "metadata": {
  "kernelspec": {
   "display_name": "envPR",
   "language": "python",
   "name": "python3"
  },
  "language_info": {
   "codemirror_mode": {
    "name": "ipython",
    "version": 3
   },
   "file_extension": ".py",
   "mimetype": "text/x-python",
   "name": "python",
   "nbconvert_exporter": "python",
   "pygments_lexer": "ipython3",
   "version": "3.7.0"
  },
  "orig_nbformat": 4
 },
 "nbformat": 4,
 "nbformat_minor": 2
}
