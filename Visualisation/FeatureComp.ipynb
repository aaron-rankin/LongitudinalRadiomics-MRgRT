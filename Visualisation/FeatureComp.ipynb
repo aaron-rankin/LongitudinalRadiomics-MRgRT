{
 "cells": [
  {
   "cell_type": "markdown",
   "metadata": {},
   "source": []
  },
  {
   "cell_type": "code",
   "execution_count": 18,
   "metadata": {},
   "outputs": [],
   "source": [
    "import pandas as pd\n",
    "import os\n",
    "\n",
    "df_all = pd.read_csv('..\\Output\\HM-FS\\Features\\Features_All.csv')\n",
    "fts_all = df_all['Feature'].unique()\n",
    "# remove firstorder_Minimum and firstorder_Maximum\n",
    "fts_all = fts_all[fts_all != 'firstorder_Minimum']\n",
    "fts_all = fts_all[fts_all != 'firstorder_Maximum']\n",
    "\n",
    "dlt_ICC = pd.read_csv('..\\Output\\HM-FS-Delta\\Features\\Manual_ICC_Names.csv')\n",
    "dlt_ICC = dlt_ICC['Feature'].unique()\n",
    "\n",
    "dlt_Vol = pd.read_csv('..\\Output\\HM-FS-Delta\\Features\\Manual_VolCorr_Names.csv')\n",
    "dlt_Vol = dlt_Vol['Feature'].unique()\n",
    "\n",
    "ln_ICC = pd.read_csv('..\\Output\\HM-FS\\Features\\Manual_ICC_Names.csv')\n",
    "ln_ICC = ln_ICC['Feature'].unique()\n",
    "\n",
    "ln_Vol = pd.read_csv('..\\Output\\HM-FS\\Features\\Manual_VolCorr_Names.csv')\n",
    "ln_Vol = ln_Vol['Feature'].unique()\n",
    "\n"
   ]
  },
  {
   "cell_type": "code",
   "execution_count": 19,
   "metadata": {},
   "outputs": [
    {
     "name": "stdout",
     "output_type": "stream",
     "text": [
      "Delta ICC and Delta Vol\n",
      "len of ICC:  37\n",
      "len of Vol:  11\n",
      "len of intersection:  11\n",
      "Features in ICC but not in Vol\n",
      "{'glszm_ZoneVariance', 'glszm_SmallAreaLowGrayLevelEmphasis', 'glszm_LargeAreaHighGrayLevelEmphasis', 'ngtdm_Strength', 'shape_Maximum2DDiameterSlice', 'glszm_GrayLevelVariance', 'firstorder_Kurtosis', 'gldm_GrayLevelNonUniformity', 'glszm_LargeAreaEmphasis', 'glcm_Idn', 'shape_Maximum2DDiameterColumn', 'glszm_GrayLevelNonUniformity', 'glszm_SmallAreaHighGrayLevelEmphasis', 'firstorder_Skewness', 'glcm_Idmn', 'firstorder_TotalEnergy', 'shape_Sphericity', 'firstorder_Range', 'firstorder_Energy', 'shape_Elongation', 'shape_MajorAxisLength', 'glszm_ZonePercentage', 'shape_Flatness', 'shape_Maximum3DDiameter', 'ngtdm_Complexity', 'glszm_LargeAreaLowGrayLevelEmphasis'}\n",
      "Features in Vol but not in ICC\n",
      "set()\n",
      "Longitudinal ICC and Longitudinal Vol\n",
      "len of ICC:  16\n",
      "len of Vol:  22\n",
      "len of intersection:  5\n",
      "Features in ICC but not in Vol\n",
      "{'shape_Elongation', 'glszm_ZoneVariance', 'glszm_SmallAreaLowGrayLevelEmphasis', 'shape_Flatness', 'glszm_LargeAreaLowGrayLevelEmphasis', 'glszm_SizeZoneNonUniformityNormalized', 'shape_Sphericity', 'glszm_SmallAreaEmphasis', 'glszm_LargeAreaEmphasis', 'glszm_LowGrayLevelZoneEmphasis', 'ngtdm_Busyness'}\n",
      "Features in Vol but not in ICC\n",
      "{'firstorder_Energy', 'shape_MinorAxisLength', 'glrlm_GrayLevelNonUniformity', 'glszm_SizeZoneNonUniformity', 'shape_MajorAxisLength', 'shape_Maximum2DDiameterRow', 'shape_VoxelVolume', 'glszm_ZoneEntropy', 'glszm_LargeAreaHighGrayLevelEmphasis', 'firstorder_TotalEnergy', 'gldm_GrayLevelNonUniformity', 'shape_Maximum3DDiameter', 'shape_MeshVolume', 'glrlm_RunLengthNonUniformity', 'gldm_DependenceNonUniformity', 'shape_SurfaceArea', 'glszm_GrayLevelNonUniformity'}\n"
     ]
    }
   ],
   "source": [
    "# get intersection of ICC and vol for both models \n",
    "print('Delta ICC and Delta Vol')\n",
    "print('len of ICC: ', len(dlt_ICC))\n",
    "print('len of Vol: ', len(dlt_Vol))\n",
    "print('len of intersection: ', len(set(dlt_ICC).intersection(dlt_Vol)))\n",
    "\n",
    "print('Features in ICC but not in Vol')\n",
    "print(set(dlt_ICC) - set(dlt_Vol))\n",
    "print('Features in Vol but not in ICC')\n",
    "print(set(dlt_Vol) - set(dlt_ICC))\n",
    "\n",
    "\n",
    "# Longitudinal model\n",
    "print('Longitudinal ICC and Longitudinal Vol')\n",
    "print('len of ICC: ', len(ln_ICC))\n",
    "print('len of Vol: ', len(ln_Vol))\n",
    "print('len of intersection: ', len(set(ln_ICC).intersection(ln_Vol)))\n",
    "\n",
    "print('Features in ICC but not in Vol')\n",
    "print(set(ln_ICC) - set(ln_Vol))\n",
    "print('Features in Vol but not in ICC')\n",
    "print(set(ln_Vol) - set(ln_ICC))\n",
    "\n"
   ]
  },
  {
   "cell_type": "code",
   "execution_count": 22,
   "metadata": {},
   "outputs": [
    {
     "name": "stdout",
     "output_type": "stream",
     "text": [
      "Delta Rem\n",
      "len of ICC:  68\n",
      "Longitudinal Rem\n",
      "len of ICC:  72\n",
      "Rem in both\n",
      "len of intersection:  62\n"
     ]
    }
   ],
   "source": [
    "# rem features is features not in ICC or Vol\n",
    "\n",
    "dlt_rem_fts = set(fts_all) - set(dlt_ICC) - set(dlt_Vol)\n",
    "print('Delta Rem')\n",
    "print('len of ICC: ', len(dlt_rem_fts))\n",
    "\n",
    "ln_rem_fts = set(fts_all) - set(ln_ICC) - set(ln_Vol)\n",
    "print('Longitudinal Rem')\n",
    "print('len of ICC: ', len(ln_rem_fts))\n",
    "\n",
    "# get number of fts rem in both\n",
    "print('Rem in both')\n",
    "print('len of intersection: ', len(set(dlt_rem_fts).intersection(ln_rem_fts)))\n",
    "\n"
   ]
  },
  {
   "cell_type": "code",
   "execution_count": 4,
   "metadata": {},
   "outputs": [
    {
     "name": "stdout",
     "output_type": "stream",
     "text": [
      "Delta Selected\n",
      "len  11\n",
      "Longitudinal Selected\n",
      "len  8\n",
      "Selected in both\n",
      "len of intersection:  3\n",
      "{'glcm_Contrast', 'gldm_GrayLevelVariance', 'glcm_DifferenceAverage'}\n",
      "Selected in Delta but not in Longitudinal\n",
      "{'glcm_DifferenceEntropy', 'glrlm_GrayLevelVariance', 'firstorder_MeanAbsoluteDeviation', 'gldm_SmallDependenceHighGrayLevelEmphasis', 'glcm_ClusterTendency', 'firstorder_Variance', 'glcm_SumSquares', 'gldm_SmallDependenceEmphasis'}\n",
      "Selected in Longitudinal but not in Delta\n",
      "{'gldm_DependenceEntropy', 'glcm_JointEnergy', 'glrlm_LongRunEmphasis', 'firstorder_Mean', 'glrlm_HighGrayLevelRunEmphasis'}\n"
     ]
    }
   ],
   "source": [
    "import pandas as pd\n",
    "ln_sel_fts = pd.read_csv('..\\Output\\HM-FS\\Features\\Features_Selected.csv')\n",
    "ln_sel_fts = ln_sel_fts['Feature'].unique()\n",
    "\n",
    "dlt_sel_fts = pd.read_csv('..\\Output\\HM-FS-Delta\\Features\\Delta_SelectedFeatures.csv')\n",
    "dlt_sel_fts = dlt_sel_fts['Feature'].unique()\n",
    "\n",
    "print('Delta Selected')\n",
    "print('len ', len(dlt_sel_fts))\n",
    "\n",
    "print('Longitudinal Selected')\n",
    "print('len ', len(ln_sel_fts))\n",
    "\n",
    "print('Selected in both')\n",
    "print('len of intersection: ', len(set(dlt_sel_fts).intersection(ln_sel_fts)))\n",
    "print(set(dlt_sel_fts).intersection(ln_sel_fts))\n",
    "\n",
    "print('Selected in Delta but not in Longitudinal')\n",
    "print(set(dlt_sel_fts) - set(ln_sel_fts))\n",
    "\n",
    "print('Selected in Longitudinal but not in Delta')\n",
    "print(set(ln_sel_fts) - set(dlt_sel_fts))\n",
    "\n",
    "\n"
   ]
  }
 ],
 "metadata": {
  "kernelspec": {
   "display_name": "envPR",
   "language": "python",
   "name": "python3"
  },
  "language_info": {
   "codemirror_mode": {
    "name": "ipython",
    "version": 3
   },
   "file_extension": ".py",
   "mimetype": "text/x-python",
   "name": "python",
   "nbconvert_exporter": "python",
   "pygments_lexer": "ipython3",
   "version": "3.7.0"
  },
  "orig_nbformat": 4
 },
 "nbformat": 4,
 "nbformat_minor": 2
}
